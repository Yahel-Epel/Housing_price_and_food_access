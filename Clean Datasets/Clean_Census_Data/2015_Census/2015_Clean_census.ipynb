{
 "cells": [
  {
   "cell_type": "code",
<<<<<<< HEAD:Recourses/Census/Clean_census.ipynb
   "execution_count": 55,
=======
   "execution_count": 1,
>>>>>>> 97e91cef6c19d7c1a851cc42a38f66e93a23a1b3:Clean Datasets/Clean_Census_Data/2015_Census/2015_Clean_census.ipynb
   "id": "b62e13bf",
   "metadata": {},
   "outputs": [],
   "source": [
    "import pandas as pd\n",
    "import re"
   ]
  },
  {
   "cell_type": "code",
<<<<<<< HEAD:Recourses/Census/Clean_census.ipynb
   "execution_count": 56,
=======
   "execution_count": 2,
>>>>>>> 97e91cef6c19d7c1a851cc42a38f66e93a23a1b3:Clean Datasets/Clean_Census_Data/2015_Census/2015_Clean_census.ipynb
   "id": "466fc286",
   "metadata": {},
   "outputs": [
    {
     "data": {
      "text/html": [
       "<div>\n",
       "<style scoped>\n",
       "    .dataframe tbody tr th:only-of-type {\n",
       "        vertical-align: middle;\n",
       "    }\n",
       "\n",
       "    .dataframe tbody tr th {\n",
       "        vertical-align: top;\n",
       "    }\n",
       "\n",
       "    .dataframe thead th {\n",
       "        text-align: right;\n",
       "    }\n",
       "</style>\n",
       "<table border=\"1\" class=\"dataframe\">\n",
       "  <thead>\n",
       "    <tr style=\"text-align: right;\">\n",
       "      <th></th>\n",
       "      <th>B25077_001E</th>\n",
       "      <th>B25077_001M</th>\n",
       "      <th>GEO_ID</th>\n",
       "      <th>NAME</th>\n",
       "    </tr>\n",
       "  </thead>\n",
       "  <tbody>\n",
       "    <tr>\n",
       "      <th>0</th>\n",
       "      <td>Estimate!!Median value (dollars)</td>\n",
       "      <td>Margin of Error!!Median value (dollars)</td>\n",
       "      <td>id</td>\n",
       "      <td>Geographic Area Name</td>\n",
       "    </tr>\n",
       "    <tr>\n",
       "      <th>1</th>\n",
       "      <td>1098000</td>\n",
       "      <td>58982</td>\n",
       "      <td>1400000US06001400100</td>\n",
       "      <td>Census Tract 4001, Alameda County, California</td>\n",
       "    </tr>\n",
       "    <tr>\n",
       "      <th>2</th>\n",
       "      <td>895300</td>\n",
       "      <td>40466</td>\n",
       "      <td>1400000US06001400200</td>\n",
       "      <td>Census Tract 4002, Alameda County, California</td>\n",
       "    </tr>\n",
       "    <tr>\n",
       "      <th>3</th>\n",
       "      <td>856600</td>\n",
       "      <td>66477</td>\n",
       "      <td>1400000US06001400300</td>\n",
       "      <td>Census Tract 4003, Alameda County, California</td>\n",
       "    </tr>\n",
       "    <tr>\n",
       "      <th>4</th>\n",
       "      <td>817700</td>\n",
       "      <td>47958</td>\n",
       "      <td>1400000US06001400400</td>\n",
       "      <td>Census Tract 4004, Alameda County, California</td>\n",
       "    </tr>\n",
       "    <tr>\n",
       "      <th>...</th>\n",
       "      <td>...</td>\n",
       "      <td>...</td>\n",
       "      <td>...</td>\n",
       "      <td>...</td>\n",
       "    </tr>\n",
       "    <tr>\n",
       "      <th>8054</th>\n",
       "      <td>198800</td>\n",
       "      <td>32632</td>\n",
       "      <td>1400000US06115040901</td>\n",
       "      <td>Census Tract 409.01, Yuba County, California</td>\n",
       "    </tr>\n",
       "    <tr>\n",
       "      <th>8055</th>\n",
       "      <td>-</td>\n",
       "      <td>**</td>\n",
       "      <td>1400000US06115040902</td>\n",
       "      <td>Census Tract 409.02, Yuba County, California</td>\n",
       "    </tr>\n",
       "    <tr>\n",
       "      <th>8056</th>\n",
       "      <td>278400</td>\n",
       "      <td>27712</td>\n",
       "      <td>1400000US06115041000</td>\n",
       "      <td>Census Tract 410, Yuba County, California</td>\n",
       "    </tr>\n",
       "    <tr>\n",
       "      <th>8057</th>\n",
       "      <td>167600</td>\n",
       "      <td>15666</td>\n",
       "      <td>1400000US06115041100</td>\n",
       "      <td>Census Tract 411, Yuba County, California</td>\n",
       "    </tr>\n",
       "    <tr>\n",
       "      <th>8058</th>\n",
       "      <td>366900</td>\n",
       "      <td>12315</td>\n",
       "      <td>8600000US90031</td>\n",
       "      <td>ZCTA5 90031</td>\n",
       "    </tr>\n",
       "  </tbody>\n",
       "</table>\n",
       "<p>8059 rows × 4 columns</p>\n",
       "</div>"
      ],
      "text/plain": [
       "                           B25077_001E  \\\n",
       "0     Estimate!!Median value (dollars)   \n",
       "1                              1098000   \n",
       "2                               895300   \n",
       "3                               856600   \n",
       "4                               817700   \n",
       "...                                ...   \n",
       "8054                            198800   \n",
       "8055                                 -   \n",
       "8056                            278400   \n",
       "8057                            167600   \n",
       "8058                            366900   \n",
       "\n",
       "                                  B25077_001M                GEO_ID  \\\n",
       "0     Margin of Error!!Median value (dollars)                    id   \n",
       "1                                       58982  1400000US06001400100   \n",
       "2                                       40466  1400000US06001400200   \n",
       "3                                       66477  1400000US06001400300   \n",
       "4                                       47958  1400000US06001400400   \n",
       "...                                       ...                   ...   \n",
       "8054                                    32632  1400000US06115040901   \n",
       "8055                                       **  1400000US06115040902   \n",
       "8056                                    27712  1400000US06115041000   \n",
       "8057                                    15666  1400000US06115041100   \n",
       "8058                                    12315        8600000US90031   \n",
       "\n",
       "                                               NAME  \n",
       "0                              Geographic Area Name  \n",
       "1     Census Tract 4001, Alameda County, California  \n",
       "2     Census Tract 4002, Alameda County, California  \n",
       "3     Census Tract 4003, Alameda County, California  \n",
       "4     Census Tract 4004, Alameda County, California  \n",
       "...                                             ...  \n",
       "8054   Census Tract 409.01, Yuba County, California  \n",
       "8055   Census Tract 409.02, Yuba County, California  \n",
       "8056      Census Tract 410, Yuba County, California  \n",
       "8057      Census Tract 411, Yuba County, California  \n",
       "8058                                    ZCTA5 90031  \n",
       "\n",
       "[8059 rows x 4 columns]"
      ]
     },
<<<<<<< HEAD:Recourses/Census/Clean_census.ipynb
     "execution_count": 56,
=======
     "execution_count": 2,
>>>>>>> 97e91cef6c19d7c1a851cc42a38f66e93a23a1b3:Clean Datasets/Clean_Census_Data/2015_Census/2015_Clean_census.ipynb
     "metadata": {},
     "output_type": "execute_result"
    }
   ],
   "source": [
    "# Files to load\n",
    "csnsus_csv = \"MEDIAN_VALUE_(DOLLARS)/ACSDT5Y2015.B25077_data_with_overlays_2022-05-26T163008.csv\"\n",
    "\n",
    "# Read the CSV into a DataFrame\n",
    "csnsus_df = pd.read_csv(csnsus_csv)\n",
    "csnsus_df"
   ]
  },
  {
   "cell_type": "code",
<<<<<<< HEAD:Recourses/Census/Clean_census.ipynb
   "execution_count": 57,
=======
   "execution_count": 3,
>>>>>>> 97e91cef6c19d7c1a851cc42a38f66e93a23a1b3:Clean Datasets/Clean_Census_Data/2015_Census/2015_Clean_census.ipynb
   "id": "ef248632",
   "metadata": {},
   "outputs": [
    {
     "data": {
      "text/html": [
       "<div>\n",
       "<style scoped>\n",
       "    .dataframe tbody tr th:only-of-type {\n",
       "        vertical-align: middle;\n",
       "    }\n",
       "\n",
       "    .dataframe tbody tr th {\n",
       "        vertical-align: top;\n",
       "    }\n",
       "\n",
       "    .dataframe thead th {\n",
       "        text-align: right;\n",
       "    }\n",
       "</style>\n",
       "<table border=\"1\" class=\"dataframe\">\n",
       "  <thead>\n",
       "    <tr style=\"text-align: right;\">\n",
       "      <th></th>\n",
       "      <th>B25077_001E</th>\n",
       "      <th>B25077_001M</th>\n",
       "      <th>GEO_ID</th>\n",
       "      <th>NAME</th>\n",
       "    </tr>\n",
       "  </thead>\n",
       "  <tbody>\n",
       "    <tr>\n",
       "      <th>1</th>\n",
       "      <td>1098000</td>\n",
       "      <td>58982</td>\n",
       "      <td>1400000US06001400100</td>\n",
       "      <td>Census Tract 4001, Alameda County, California</td>\n",
       "    </tr>\n",
       "    <tr>\n",
       "      <th>2</th>\n",
       "      <td>895300</td>\n",
       "      <td>40466</td>\n",
       "      <td>1400000US06001400200</td>\n",
       "      <td>Census Tract 4002, Alameda County, California</td>\n",
       "    </tr>\n",
       "    <tr>\n",
       "      <th>3</th>\n",
       "      <td>856600</td>\n",
       "      <td>66477</td>\n",
       "      <td>1400000US06001400300</td>\n",
       "      <td>Census Tract 4003, Alameda County, California</td>\n",
       "    </tr>\n",
       "    <tr>\n",
       "      <th>4</th>\n",
       "      <td>817700</td>\n",
       "      <td>47958</td>\n",
       "      <td>1400000US06001400400</td>\n",
       "      <td>Census Tract 4004, Alameda County, California</td>\n",
       "    </tr>\n",
       "    <tr>\n",
       "      <th>5</th>\n",
       "      <td>611300</td>\n",
       "      <td>89714</td>\n",
       "      <td>1400000US06001400500</td>\n",
       "      <td>Census Tract 4005, Alameda County, California</td>\n",
       "    </tr>\n",
       "    <tr>\n",
       "      <th>...</th>\n",
       "      <td>...</td>\n",
       "      <td>...</td>\n",
       "      <td>...</td>\n",
       "      <td>...</td>\n",
       "    </tr>\n",
       "    <tr>\n",
       "      <th>8054</th>\n",
       "      <td>198800</td>\n",
       "      <td>32632</td>\n",
       "      <td>1400000US06115040901</td>\n",
       "      <td>Census Tract 409.01, Yuba County, California</td>\n",
       "    </tr>\n",
       "    <tr>\n",
       "      <th>8055</th>\n",
       "      <td>-</td>\n",
       "      <td>**</td>\n",
       "      <td>1400000US06115040902</td>\n",
       "      <td>Census Tract 409.02, Yuba County, California</td>\n",
       "    </tr>\n",
       "    <tr>\n",
       "      <th>8056</th>\n",
       "      <td>278400</td>\n",
       "      <td>27712</td>\n",
       "      <td>1400000US06115041000</td>\n",
       "      <td>Census Tract 410, Yuba County, California</td>\n",
       "    </tr>\n",
       "    <tr>\n",
       "      <th>8057</th>\n",
       "      <td>167600</td>\n",
       "      <td>15666</td>\n",
       "      <td>1400000US06115041100</td>\n",
       "      <td>Census Tract 411, Yuba County, California</td>\n",
       "    </tr>\n",
       "    <tr>\n",
       "      <th>8058</th>\n",
       "      <td>366900</td>\n",
       "      <td>12315</td>\n",
       "      <td>8600000US90031</td>\n",
       "      <td>ZCTA5 90031</td>\n",
       "    </tr>\n",
       "  </tbody>\n",
       "</table>\n",
       "<p>8058 rows × 4 columns</p>\n",
       "</div>"
      ],
      "text/plain": [
       "     B25077_001E B25077_001M                GEO_ID  \\\n",
       "1        1098000       58982  1400000US06001400100   \n",
       "2         895300       40466  1400000US06001400200   \n",
       "3         856600       66477  1400000US06001400300   \n",
       "4         817700       47958  1400000US06001400400   \n",
       "5         611300       89714  1400000US06001400500   \n",
       "...          ...         ...                   ...   \n",
       "8054      198800       32632  1400000US06115040901   \n",
       "8055           -          **  1400000US06115040902   \n",
       "8056      278400       27712  1400000US06115041000   \n",
       "8057      167600       15666  1400000US06115041100   \n",
       "8058      366900       12315        8600000US90031   \n",
       "\n",
       "                                               NAME  \n",
       "1     Census Tract 4001, Alameda County, California  \n",
       "2     Census Tract 4002, Alameda County, California  \n",
       "3     Census Tract 4003, Alameda County, California  \n",
       "4     Census Tract 4004, Alameda County, California  \n",
       "5     Census Tract 4005, Alameda County, California  \n",
       "...                                             ...  \n",
       "8054   Census Tract 409.01, Yuba County, California  \n",
       "8055   Census Tract 409.02, Yuba County, California  \n",
       "8056      Census Tract 410, Yuba County, California  \n",
       "8057      Census Tract 411, Yuba County, California  \n",
       "8058                                    ZCTA5 90031  \n",
       "\n",
       "[8058 rows x 4 columns]"
      ]
     },
<<<<<<< HEAD:Recourses/Census/Clean_census.ipynb
     "execution_count": 57,
=======
     "execution_count": 3,
>>>>>>> 97e91cef6c19d7c1a851cc42a38f66e93a23a1b3:Clean Datasets/Clean_Census_Data/2015_Census/2015_Clean_census.ipynb
     "metadata": {},
     "output_type": "execute_result"
    }
   ],
   "source": [
    "csnsus_df = csnsus_df.drop(labels=0, axis=0)\n",
    "csnsus_df"
   ]
  },
  {
   "cell_type": "code",
<<<<<<< HEAD:Recourses/Census/Clean_census.ipynb
   "execution_count": 58,
=======
   "execution_count": 4,
>>>>>>> 97e91cef6c19d7c1a851cc42a38f66e93a23a1b3:Clean Datasets/Clean_Census_Data/2015_Census/2015_Clean_census.ipynb
   "id": "6a61a63e",
   "metadata": {},
   "outputs": [
    {
     "data": {
      "text/plain": [
       "B25077_001E    object\n",
       "B25077_001M    object\n",
       "GEO_ID         object\n",
       "NAME           object\n",
       "dtype: object"
      ]
     },
<<<<<<< HEAD:Recourses/Census/Clean_census.ipynb
     "execution_count": 58,
=======
     "execution_count": 4,
>>>>>>> 97e91cef6c19d7c1a851cc42a38f66e93a23a1b3:Clean Datasets/Clean_Census_Data/2015_Census/2015_Clean_census.ipynb
     "metadata": {},
     "output_type": "execute_result"
    }
   ],
   "source": [
    "csnsus_df.dtypes"
   ]
  },
  {
   "cell_type": "code",
<<<<<<< HEAD:Recourses/Census/Clean_census.ipynb
   "execution_count": 59,
=======
   "execution_count": 5,
>>>>>>> 97e91cef6c19d7c1a851cc42a38f66e93a23a1b3:Clean Datasets/Clean_Census_Data/2015_Census/2015_Clean_census.ipynb
   "id": "6c52608d",
   "metadata": {},
   "outputs": [
    {
     "name": "stdout",
     "output_type": "stream",
     "text": [
      "Column B25077_001E: 47 null values and type: <class 'str'>\n",
      "Column B25077_001M: 47 null values and type: <class 'str'>\n",
      "Column GEO_ID: 0 null values and type: <class 'str'>\n",
      "Column NAME: 0 null values and type: <class 'str'>\n"
     ]
    }
   ],
   "source": [
    "for column in csnsus_df.columns:\n",
    "    print(f\"Column {column}: {csnsus_df[column].isnull().sum()} null values and type: {type(column)}\")"
   ]
  },
  {
   "cell_type": "code",
<<<<<<< HEAD:Recourses/Census/Clean_census.ipynb
   "execution_count": 60,
=======
   "execution_count": 6,
>>>>>>> 97e91cef6c19d7c1a851cc42a38f66e93a23a1b3:Clean Datasets/Clean_Census_Data/2015_Census/2015_Clean_census.ipynb
   "id": "c2eddbfd",
   "metadata": {},
   "outputs": [
    {
     "data": {
      "text/html": [
       "<div>\n",
       "<style scoped>\n",
       "    .dataframe tbody tr th:only-of-type {\n",
       "        vertical-align: middle;\n",
       "    }\n",
       "\n",
       "    .dataframe tbody tr th {\n",
       "        vertical-align: top;\n",
       "    }\n",
       "\n",
       "    .dataframe thead th {\n",
       "        text-align: right;\n",
       "    }\n",
       "</style>\n",
       "<table border=\"1\" class=\"dataframe\">\n",
       "  <thead>\n",
       "    <tr style=\"text-align: right;\">\n",
       "      <th></th>\n",
       "      <th>0</th>\n",
       "      <th>1</th>\n",
       "    </tr>\n",
       "  </thead>\n",
       "  <tbody>\n",
       "    <tr>\n",
       "      <th>1</th>\n",
       "      <td></td>\n",
       "      <td>6001400100</td>\n",
       "    </tr>\n",
       "    <tr>\n",
       "      <th>2</th>\n",
       "      <td></td>\n",
       "      <td>6001400200</td>\n",
       "    </tr>\n",
       "    <tr>\n",
       "      <th>3</th>\n",
       "      <td></td>\n",
       "      <td>6001400300</td>\n",
       "    </tr>\n",
       "    <tr>\n",
       "      <th>4</th>\n",
       "      <td></td>\n",
       "      <td>6001400400</td>\n",
       "    </tr>\n",
       "    <tr>\n",
       "      <th>5</th>\n",
       "      <td></td>\n",
       "      <td>6001400500</td>\n",
       "    </tr>\n",
       "    <tr>\n",
       "      <th>...</th>\n",
       "      <td>...</td>\n",
       "      <td>...</td>\n",
       "    </tr>\n",
       "    <tr>\n",
       "      <th>8054</th>\n",
       "      <td></td>\n",
       "      <td>6115040901</td>\n",
       "    </tr>\n",
       "    <tr>\n",
       "      <th>8055</th>\n",
       "      <td></td>\n",
       "      <td>6115040902</td>\n",
       "    </tr>\n",
       "    <tr>\n",
       "      <th>8056</th>\n",
       "      <td></td>\n",
       "      <td>6115041000</td>\n",
       "    </tr>\n",
       "    <tr>\n",
       "      <th>8057</th>\n",
       "      <td></td>\n",
       "      <td>6115041100</td>\n",
       "    </tr>\n",
       "    <tr>\n",
       "      <th>8058</th>\n",
       "      <td>8600000US90031</td>\n",
       "      <td>None</td>\n",
       "    </tr>\n",
       "  </tbody>\n",
       "</table>\n",
       "<p>8058 rows × 2 columns</p>\n",
       "</div>"
      ],
      "text/plain": [
       "                   0           1\n",
       "1                     6001400100\n",
       "2                     6001400200\n",
       "3                     6001400300\n",
       "4                     6001400400\n",
       "5                     6001400500\n",
       "...              ...         ...\n",
       "8054                  6115040901\n",
       "8055                  6115040902\n",
       "8056                  6115041000\n",
       "8057                  6115041100\n",
       "8058  8600000US90031        None\n",
       "\n",
       "[8058 rows x 2 columns]"
      ]
     },
<<<<<<< HEAD:Recourses/Census/Clean_census.ipynb
     "execution_count": 60,
=======
     "execution_count": 6,
>>>>>>> 97e91cef6c19d7c1a851cc42a38f66e93a23a1b3:Clean Datasets/Clean_Census_Data/2015_Census/2015_Clean_census.ipynb
     "metadata": {},
     "output_type": "execute_result"
    }
   ],
   "source": [
    "censustract_df = csnsus_df['GEO_ID'].str.split(\"1400000US0*\", expand=True)\n",
    "censustract_df"
   ]
  },
  {
   "cell_type": "code",
<<<<<<< HEAD:Recourses/Census/Clean_census.ipynb
   "execution_count": 61,
=======
   "execution_count": 7,
>>>>>>> 97e91cef6c19d7c1a851cc42a38f66e93a23a1b3:Clean Datasets/Clean_Census_Data/2015_Census/2015_Clean_census.ipynb
   "id": "a1e0b8e2",
   "metadata": {
    "scrolled": true
   },
   "outputs": [
    {
     "data": {
      "text/html": [
       "<div>\n",
       "<style scoped>\n",
       "    .dataframe tbody tr th:only-of-type {\n",
       "        vertical-align: middle;\n",
       "    }\n",
       "\n",
       "    .dataframe tbody tr th {\n",
       "        vertical-align: top;\n",
       "    }\n",
       "\n",
       "    .dataframe thead th {\n",
       "        text-align: right;\n",
       "    }\n",
       "</style>\n",
       "<table border=\"1\" class=\"dataframe\">\n",
       "  <thead>\n",
       "    <tr style=\"text-align: right;\">\n",
       "      <th></th>\n",
       "      <th>B25077_001E</th>\n",
       "      <th>B25077_001M</th>\n",
       "      <th>GEO_ID</th>\n",
       "      <th>NAME</th>\n",
       "    </tr>\n",
       "  </thead>\n",
       "  <tbody>\n",
       "    <tr>\n",
       "      <th>1</th>\n",
       "      <td>1098000</td>\n",
       "      <td>58982</td>\n",
       "      <td>6001400100</td>\n",
       "      <td>Census Tract 4001, Alameda County, California</td>\n",
       "    </tr>\n",
       "    <tr>\n",
       "      <th>2</th>\n",
       "      <td>895300</td>\n",
       "      <td>40466</td>\n",
       "      <td>6001400200</td>\n",
       "      <td>Census Tract 4002, Alameda County, California</td>\n",
       "    </tr>\n",
       "    <tr>\n",
       "      <th>3</th>\n",
       "      <td>856600</td>\n",
       "      <td>66477</td>\n",
       "      <td>6001400300</td>\n",
       "      <td>Census Tract 4003, Alameda County, California</td>\n",
       "    </tr>\n",
       "    <tr>\n",
       "      <th>4</th>\n",
       "      <td>817700</td>\n",
       "      <td>47958</td>\n",
       "      <td>6001400400</td>\n",
       "      <td>Census Tract 4004, Alameda County, California</td>\n",
       "    </tr>\n",
       "    <tr>\n",
       "      <th>5</th>\n",
       "      <td>611300</td>\n",
       "      <td>89714</td>\n",
       "      <td>6001400500</td>\n",
       "      <td>Census Tract 4005, Alameda County, California</td>\n",
       "    </tr>\n",
       "  </tbody>\n",
       "</table>\n",
       "</div>"
      ],
      "text/plain": [
       "  B25077_001E B25077_001M      GEO_ID  \\\n",
       "1     1098000       58982  6001400100   \n",
       "2      895300       40466  6001400200   \n",
       "3      856600       66477  6001400300   \n",
       "4      817700       47958  6001400400   \n",
       "5      611300       89714  6001400500   \n",
       "\n",
       "                                            NAME  \n",
       "1  Census Tract 4001, Alameda County, California  \n",
       "2  Census Tract 4002, Alameda County, California  \n",
       "3  Census Tract 4003, Alameda County, California  \n",
       "4  Census Tract 4004, Alameda County, California  \n",
       "5  Census Tract 4005, Alameda County, California  "
      ]
     },
<<<<<<< HEAD:Recourses/Census/Clean_census.ipynb
     "execution_count": 61,
=======
     "execution_count": 7,
>>>>>>> 97e91cef6c19d7c1a851cc42a38f66e93a23a1b3:Clean Datasets/Clean_Census_Data/2015_Census/2015_Clean_census.ipynb
     "metadata": {},
     "output_type": "execute_result"
    }
   ],
   "source": [
    "csnsus_df['GEO_ID']= censustract_df[1]\n",
    "csnsus_df.head()"
   ]
  },
  {
   "cell_type": "code",
<<<<<<< HEAD:Recourses/Census/Clean_census.ipynb
   "execution_count": 62,
=======
   "execution_count": 8,
>>>>>>> 97e91cef6c19d7c1a851cc42a38f66e93a23a1b3:Clean Datasets/Clean_Census_Data/2015_Census/2015_Clean_census.ipynb
   "id": "c6ac01fd",
   "metadata": {},
   "outputs": [
    {
     "data": {
      "text/plain": [
       "array(['6001400100', '6001400200', '6001400300', ..., '6115041000',\n",
       "       '6115041100', None], dtype=object)"
      ]
     },
<<<<<<< HEAD:Recourses/Census/Clean_census.ipynb
     "execution_count": 62,
=======
     "execution_count": 8,
>>>>>>> 97e91cef6c19d7c1a851cc42a38f66e93a23a1b3:Clean Datasets/Clean_Census_Data/2015_Census/2015_Clean_census.ipynb
     "metadata": {},
     "output_type": "execute_result"
    }
   ],
   "source": [
    "csnsus_df['GEO_ID'].unique()"
   ]
  },
  {
   "cell_type": "code",
<<<<<<< HEAD:Recourses/Census/Clean_census.ipynb
   "execution_count": 63,
=======
   "execution_count": 9,
>>>>>>> 97e91cef6c19d7c1a851cc42a38f66e93a23a1b3:Clean Datasets/Clean_Census_Data/2015_Census/2015_Clean_census.ipynb
   "id": "e45096a4",
   "metadata": {},
   "outputs": [
    {
     "data": {
      "text/plain": [
       "B25077_001E    47\n",
       "B25077_001M    47\n",
       "GEO_ID          1\n",
       "NAME            0\n",
       "dtype: int64"
      ]
     },
<<<<<<< HEAD:Recourses/Census/Clean_census.ipynb
     "execution_count": 63,
=======
     "execution_count": 9,
>>>>>>> 97e91cef6c19d7c1a851cc42a38f66e93a23a1b3:Clean Datasets/Clean_Census_Data/2015_Census/2015_Clean_census.ipynb
     "metadata": {},
     "output_type": "execute_result"
    }
   ],
   "source": [
    "csnsus_df.isna().sum()"
   ]
  },
  {
   "cell_type": "code",
<<<<<<< HEAD:Recourses/Census/Clean_census.ipynb
   "execution_count": 64,
=======
   "execution_count": 10,
>>>>>>> 97e91cef6c19d7c1a851cc42a38f66e93a23a1b3:Clean Datasets/Clean_Census_Data/2015_Census/2015_Clean_census.ipynb
   "id": "88183b76",
   "metadata": {},
   "outputs": [
    {
     "data": {
      "text/plain": [
       "B25077_001E    8010\n",
       "B25077_001M    8010\n",
       "GEO_ID         8010\n",
       "NAME           8010\n",
       "dtype: int64"
      ]
     },
<<<<<<< HEAD:Recourses/Census/Clean_census.ipynb
     "execution_count": 64,
=======
     "execution_count": 10,
>>>>>>> 97e91cef6c19d7c1a851cc42a38f66e93a23a1b3:Clean Datasets/Clean_Census_Data/2015_Census/2015_Clean_census.ipynb
     "metadata": {},
     "output_type": "execute_result"
    }
   ],
   "source": [
    "clean_csnsus_df = csnsus_df.dropna(how='any')\n",
    "clean_csnsus_df.count()"
   ]
  },
  {
   "cell_type": "code",
<<<<<<< HEAD:Recourses/Census/Clean_census.ipynb
   "execution_count": 65,
=======
   "execution_count": 11,
>>>>>>> 97e91cef6c19d7c1a851cc42a38f66e93a23a1b3:Clean Datasets/Clean_Census_Data/2015_Census/2015_Clean_census.ipynb
   "id": "c102951a",
   "metadata": {},
   "outputs": [
    {
     "data": {
      "text/plain": [
       "B25077_001E    0\n",
       "B25077_001M    0\n",
       "GEO_ID         0\n",
       "NAME           0\n",
       "dtype: int64"
      ]
     },
<<<<<<< HEAD:Recourses/Census/Clean_census.ipynb
     "execution_count": 65,
=======
     "execution_count": 11,
>>>>>>> 97e91cef6c19d7c1a851cc42a38f66e93a23a1b3:Clean Datasets/Clean_Census_Data/2015_Census/2015_Clean_census.ipynb
     "metadata": {},
     "output_type": "execute_result"
    }
   ],
   "source": [
    "clean_csnsus_df.isna().sum()"
   ]
  },
  {
   "cell_type": "code",
<<<<<<< HEAD:Recourses/Census/Clean_census.ipynb
   "execution_count": 66,
=======
   "execution_count": 12,
>>>>>>> 97e91cef6c19d7c1a851cc42a38f66e93a23a1b3:Clean Datasets/Clean_Census_Data/2015_Census/2015_Clean_census.ipynb
   "id": "3edb810c",
   "metadata": {},
   "outputs": [
    {
     "name": "stdout",
     "output_type": "stream",
     "text": [
      "(7819, 4)\n"
     ]
    },
    {
     "data": {
      "text/html": [
       "<div>\n",
       "<style scoped>\n",
       "    .dataframe tbody tr th:only-of-type {\n",
       "        vertical-align: middle;\n",
       "    }\n",
       "\n",
       "    .dataframe tbody tr th {\n",
       "        vertical-align: top;\n",
       "    }\n",
       "\n",
       "    .dataframe thead th {\n",
       "        text-align: right;\n",
       "    }\n",
       "</style>\n",
       "<table border=\"1\" class=\"dataframe\">\n",
       "  <thead>\n",
       "    <tr style=\"text-align: right;\">\n",
       "      <th></th>\n",
       "      <th>B25077_001E</th>\n",
       "      <th>B25077_001M</th>\n",
       "      <th>GEO_ID</th>\n",
       "      <th>NAME</th>\n",
       "    </tr>\n",
       "  </thead>\n",
       "  <tbody>\n",
       "    <tr>\n",
       "      <th>1</th>\n",
       "      <td>1098000</td>\n",
       "      <td>58982</td>\n",
       "      <td>6001400100</td>\n",
       "      <td>Census Tract 4001, Alameda County, California</td>\n",
       "    </tr>\n",
       "    <tr>\n",
       "      <th>2</th>\n",
       "      <td>895300</td>\n",
       "      <td>40466</td>\n",
       "      <td>6001400200</td>\n",
       "      <td>Census Tract 4002, Alameda County, California</td>\n",
       "    </tr>\n",
       "    <tr>\n",
       "      <th>3</th>\n",
       "      <td>856600</td>\n",
       "      <td>66477</td>\n",
       "      <td>6001400300</td>\n",
       "      <td>Census Tract 4003, Alameda County, California</td>\n",
       "    </tr>\n",
       "    <tr>\n",
       "      <th>4</th>\n",
       "      <td>817700</td>\n",
       "      <td>47958</td>\n",
       "      <td>6001400400</td>\n",
       "      <td>Census Tract 4004, Alameda County, California</td>\n",
       "    </tr>\n",
       "    <tr>\n",
       "      <th>5</th>\n",
       "      <td>611300</td>\n",
       "      <td>89714</td>\n",
       "      <td>6001400500</td>\n",
       "      <td>Census Tract 4005, Alameda County, California</td>\n",
       "    </tr>\n",
       "  </tbody>\n",
       "</table>\n",
       "</div>"
      ],
      "text/plain": [
       "  B25077_001E B25077_001M      GEO_ID  \\\n",
       "1     1098000       58982  6001400100   \n",
       "2      895300       40466  6001400200   \n",
       "3      856600       66477  6001400300   \n",
       "4      817700       47958  6001400400   \n",
       "5      611300       89714  6001400500   \n",
       "\n",
       "                                            NAME  \n",
       "1  Census Tract 4001, Alameda County, California  \n",
       "2  Census Tract 4002, Alameda County, California  \n",
       "3  Census Tract 4003, Alameda County, California  \n",
       "4  Census Tract 4004, Alameda County, California  \n",
       "5  Census Tract 4005, Alameda County, California  "
      ]
     },
<<<<<<< HEAD:Recourses/Census/Clean_census.ipynb
     "execution_count": 66,
=======
     "execution_count": 12,
>>>>>>> 97e91cef6c19d7c1a851cc42a38f66e93a23a1b3:Clean Datasets/Clean_Census_Data/2015_Census/2015_Clean_census.ipynb
     "metadata": {},
     "output_type": "execute_result"
    }
   ],
   "source": [
    "#drop rows that contain specific 'value' in 'column_name'\n",
    "clean_csnsus_df = clean_csnsus_df[clean_csnsus_df.B25077_001E != \"-\"]\n",
    "print(clean_csnsus_df.shape)\n",
    "clean_csnsus_df.head()"
   ]
  },
  {
   "cell_type": "code",
<<<<<<< HEAD:Recourses/Census/Clean_census.ipynb
   "execution_count": 67,
=======
   "execution_count": 13,
>>>>>>> 97e91cef6c19d7c1a851cc42a38f66e93a23a1b3:Clean Datasets/Clean_Census_Data/2015_Census/2015_Clean_census.ipynb
   "id": "d4f42269",
   "metadata": {},
   "outputs": [
    {
     "data": {
      "text/html": [
       "<div>\n",
       "<style scoped>\n",
       "    .dataframe tbody tr th:only-of-type {\n",
       "        vertical-align: middle;\n",
       "    }\n",
       "\n",
       "    .dataframe tbody tr th {\n",
       "        vertical-align: top;\n",
       "    }\n",
       "\n",
       "    .dataframe thead th {\n",
       "        text-align: right;\n",
       "    }\n",
       "</style>\n",
       "<table border=\"1\" class=\"dataframe\">\n",
       "  <thead>\n",
       "    <tr style=\"text-align: right;\">\n",
       "      <th></th>\n",
       "      <th>Estimate_Median_value_(dollars)</th>\n",
       "      <th>Margin_of_Error_Median_value_(dollars)</th>\n",
       "      <th>CensusTract</th>\n",
       "      <th>Geographic_Area_Name</th>\n",
       "    </tr>\n",
       "  </thead>\n",
       "  <tbody>\n",
       "    <tr>\n",
       "      <th>1</th>\n",
       "      <td>1098000</td>\n",
       "      <td>58982</td>\n",
       "      <td>6001400100</td>\n",
       "      <td>Census Tract 4001, Alameda County, California</td>\n",
       "    </tr>\n",
       "    <tr>\n",
       "      <th>2</th>\n",
       "      <td>895300</td>\n",
       "      <td>40466</td>\n",
       "      <td>6001400200</td>\n",
       "      <td>Census Tract 4002, Alameda County, California</td>\n",
       "    </tr>\n",
       "    <tr>\n",
       "      <th>3</th>\n",
       "      <td>856600</td>\n",
       "      <td>66477</td>\n",
       "      <td>6001400300</td>\n",
       "      <td>Census Tract 4003, Alameda County, California</td>\n",
       "    </tr>\n",
       "    <tr>\n",
       "      <th>4</th>\n",
       "      <td>817700</td>\n",
       "      <td>47958</td>\n",
       "      <td>6001400400</td>\n",
       "      <td>Census Tract 4004, Alameda County, California</td>\n",
       "    </tr>\n",
       "    <tr>\n",
       "      <th>5</th>\n",
       "      <td>611300</td>\n",
       "      <td>89714</td>\n",
       "      <td>6001400500</td>\n",
       "      <td>Census Tract 4005, Alameda County, California</td>\n",
       "    </tr>\n",
       "    <tr>\n",
       "      <th>...</th>\n",
       "      <td>...</td>\n",
       "      <td>...</td>\n",
       "      <td>...</td>\n",
       "      <td>...</td>\n",
       "    </tr>\n",
       "    <tr>\n",
       "      <th>8052</th>\n",
       "      <td>195000</td>\n",
       "      <td>12129</td>\n",
       "      <td>6115040700</td>\n",
       "      <td>Census Tract 407, Yuba County, California</td>\n",
       "    </tr>\n",
       "    <tr>\n",
       "      <th>8053</th>\n",
       "      <td>180100</td>\n",
       "      <td>22291</td>\n",
       "      <td>6115040800</td>\n",
       "      <td>Census Tract 408, Yuba County, California</td>\n",
       "    </tr>\n",
       "    <tr>\n",
       "      <th>8054</th>\n",
       "      <td>198800</td>\n",
       "      <td>32632</td>\n",
       "      <td>6115040901</td>\n",
       "      <td>Census Tract 409.01, Yuba County, California</td>\n",
       "    </tr>\n",
       "    <tr>\n",
       "      <th>8056</th>\n",
       "      <td>278400</td>\n",
       "      <td>27712</td>\n",
       "      <td>6115041000</td>\n",
       "      <td>Census Tract 410, Yuba County, California</td>\n",
       "    </tr>\n",
       "    <tr>\n",
       "      <th>8057</th>\n",
       "      <td>167600</td>\n",
       "      <td>15666</td>\n",
       "      <td>6115041100</td>\n",
       "      <td>Census Tract 411, Yuba County, California</td>\n",
       "    </tr>\n",
       "  </tbody>\n",
       "</table>\n",
       "<p>7819 rows × 4 columns</p>\n",
       "</div>"
      ],
      "text/plain": [
       "     Estimate_Median_value_(dollars) Margin_of_Error_Median_value_(dollars)  \\\n",
       "1                            1098000                                  58982   \n",
       "2                             895300                                  40466   \n",
       "3                             856600                                  66477   \n",
       "4                             817700                                  47958   \n",
       "5                             611300                                  89714   \n",
       "...                              ...                                    ...   \n",
       "8052                          195000                                  12129   \n",
       "8053                          180100                                  22291   \n",
       "8054                          198800                                  32632   \n",
       "8056                          278400                                  27712   \n",
       "8057                          167600                                  15666   \n",
       "\n",
       "     CensusTract                           Geographic_Area_Name  \n",
       "1     6001400100  Census Tract 4001, Alameda County, California  \n",
       "2     6001400200  Census Tract 4002, Alameda County, California  \n",
       "3     6001400300  Census Tract 4003, Alameda County, California  \n",
       "4     6001400400  Census Tract 4004, Alameda County, California  \n",
       "5     6001400500  Census Tract 4005, Alameda County, California  \n",
       "...          ...                                            ...  \n",
       "8052  6115040700      Census Tract 407, Yuba County, California  \n",
       "8053  6115040800      Census Tract 408, Yuba County, California  \n",
       "8054  6115040901   Census Tract 409.01, Yuba County, California  \n",
       "8056  6115041000      Census Tract 410, Yuba County, California  \n",
       "8057  6115041100      Census Tract 411, Yuba County, California  \n",
       "\n",
       "[7819 rows x 4 columns]"
      ]
     },
<<<<<<< HEAD:Recourses/Census/Clean_census.ipynb
     "execution_count": 67,
=======
     "execution_count": 13,
>>>>>>> 97e91cef6c19d7c1a851cc42a38f66e93a23a1b3:Clean Datasets/Clean_Census_Data/2015_Census/2015_Clean_census.ipynb
     "metadata": {},
     "output_type": "execute_result"
    }
   ],
   "source": [
    "clean_csnsus_df = clean_csnsus_df.rename(columns={\"B25077_001E\": \"Estimate_Median_value_(dollars)\" ,\n",
    "                                      \"B25077_001M\": \"Margin_of_Error_Median_value_(dollars)\",\n",
    "                                      \"GEO_ID\": \"CensusTract\",\"NAME\": \"Geographic_Area_Name\"})\n",
    "clean_csnsus_df"
   ]
  },
  {
   "cell_type": "code",
<<<<<<< HEAD:Recourses/Census/Clean_census.ipynb
   "execution_count": 68,
=======
   "execution_count": 14,
>>>>>>> 97e91cef6c19d7c1a851cc42a38f66e93a23a1b3:Clean Datasets/Clean_Census_Data/2015_Census/2015_Clean_census.ipynb
   "id": "9cc208ed",
   "metadata": {},
   "outputs": [],
   "source": [
    "clean_csnsus_df.to_csv(\"2015_clean_census.csv\") "
   ]
  },
  {
   "cell_type": "code",
   "execution_count": null,
   "id": "9b0907bd",
   "metadata": {},
   "outputs": [],
   "source": []
  }
 ],
 "metadata": {
  "kernelspec": {
   "display_name": "mlenv",
   "language": "python",
   "name": "mlenv"
  },
  "language_info": {
   "codemirror_mode": {
    "name": "ipython",
    "version": 3
   },
   "file_extension": ".py",
   "mimetype": "text/x-python",
   "name": "python",
   "nbconvert_exporter": "python",
   "pygments_lexer": "ipython3",
   "version": "3.7.13"
  }
 },
 "nbformat": 4,
 "nbformat_minor": 5
}
