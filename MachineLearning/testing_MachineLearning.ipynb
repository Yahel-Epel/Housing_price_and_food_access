{
 "cells": [
  {
   "cell_type": "code",
   "execution_count": 1,
   "id": "52421870",
   "metadata": {},
   "outputs": [],
   "source": [
    "import pandas as pd\n",
    "from pathlib import Path\n",
    "import matplotlib.pyplot as plt\n",
    "from sklearn.linear_model import LinearRegression"
   ]
  },
  {
   "cell_type": "code",
   "execution_count": 2,
   "id": "f84f6179",
   "metadata": {},
   "outputs": [
    {
     "data": {
      "text/html": [
       "<div>\n",
       "<style scoped>\n",
       "    .dataframe tbody tr th:only-of-type {\n",
       "        vertical-align: middle;\n",
       "    }\n",
       "\n",
       "    .dataframe tbody tr th {\n",
       "        vertical-align: top;\n",
       "    }\n",
       "\n",
       "    .dataframe thead th {\n",
       "        text-align: right;\n",
       "    }\n",
       "</style>\n",
       "<table border=\"1\" class=\"dataframe\">\n",
       "  <thead>\n",
       "    <tr style=\"text-align: right;\">\n",
       "      <th></th>\n",
       "      <th>Unnamed: 0</th>\n",
       "      <th>Estimate_Median_value_(dollars)</th>\n",
       "      <th>Margin_of_Error_Median_value_(dollars)</th>\n",
       "      <th>CensusTract</th>\n",
       "      <th>Geographic_Area_Name</th>\n",
       "    </tr>\n",
       "  </thead>\n",
       "  <tbody>\n",
       "    <tr>\n",
       "      <th>0</th>\n",
       "      <td>1</td>\n",
       "      <td>1098000</td>\n",
       "      <td>58982</td>\n",
       "      <td>6001400100</td>\n",
       "      <td>Census Tract 4001, Alameda County, California</td>\n",
       "    </tr>\n",
       "    <tr>\n",
       "      <th>1</th>\n",
       "      <td>2</td>\n",
       "      <td>895300</td>\n",
       "      <td>40466</td>\n",
       "      <td>6001400200</td>\n",
       "      <td>Census Tract 4002, Alameda County, California</td>\n",
       "    </tr>\n",
       "    <tr>\n",
       "      <th>2</th>\n",
       "      <td>3</td>\n",
       "      <td>856600</td>\n",
       "      <td>66477</td>\n",
       "      <td>6001400300</td>\n",
       "      <td>Census Tract 4003, Alameda County, California</td>\n",
       "    </tr>\n",
       "    <tr>\n",
       "      <th>3</th>\n",
       "      <td>4</td>\n",
       "      <td>817700</td>\n",
       "      <td>47958</td>\n",
       "      <td>6001400400</td>\n",
       "      <td>Census Tract 4004, Alameda County, California</td>\n",
       "    </tr>\n",
       "    <tr>\n",
       "      <th>4</th>\n",
       "      <td>5</td>\n",
       "      <td>611300</td>\n",
       "      <td>89714</td>\n",
       "      <td>6001400500</td>\n",
       "      <td>Census Tract 4005, Alameda County, California</td>\n",
       "    </tr>\n",
       "  </tbody>\n",
       "</table>\n",
       "</div>"
      ],
      "text/plain": [
       "   Unnamed: 0  Estimate_Median_value_(dollars)  \\\n",
       "0           1                          1098000   \n",
       "1           2                           895300   \n",
       "2           3                           856600   \n",
       "3           4                           817700   \n",
       "4           5                           611300   \n",
       "\n",
       "   Margin_of_Error_Median_value_(dollars)  CensusTract  \\\n",
       "0                                   58982   6001400100   \n",
       "1                                   40466   6001400200   \n",
       "2                                   66477   6001400300   \n",
       "3                                   47958   6001400400   \n",
       "4                                   89714   6001400500   \n",
       "\n",
       "                            Geographic_Area_Name  \n",
       "0  Census Tract 4001, Alameda County, California  \n",
       "1  Census Tract 4002, Alameda County, California  \n",
       "2  Census Tract 4003, Alameda County, California  \n",
       "3  Census Tract 4004, Alameda County, California  \n",
       "4  Census Tract 4005, Alameda County, California  "
      ]
     },
     "execution_count": 2,
     "metadata": {},
     "output_type": "execute_result"
    }
   ],
   "source": [
    "df = pd.read_csv(Path('../Resource/HousingPricesbyCensusTract.csv'))\n",
    "df.head()"
   ]
  },
  {
   "cell_type": "code",
   "execution_count": 3,
   "id": "ae98aec4",
   "metadata": {},
   "outputs": [
    {
     "data": {
      "text/html": [
       "<div>\n",
       "<style scoped>\n",
       "    .dataframe tbody tr th:only-of-type {\n",
       "        vertical-align: middle;\n",
       "    }\n",
       "\n",
       "    .dataframe tbody tr th {\n",
       "        vertical-align: top;\n",
       "    }\n",
       "\n",
       "    .dataframe thead th {\n",
       "        text-align: right;\n",
       "    }\n",
       "</style>\n",
       "<table border=\"1\" class=\"dataframe\">\n",
       "  <thead>\n",
       "    <tr style=\"text-align: right;\">\n",
       "      <th></th>\n",
       "      <th>Unnamed: 0</th>\n",
       "      <th>Estimate_Median_value_(dollars)</th>\n",
       "      <th>Margin_of_Error_Median_value_(dollars)</th>\n",
       "      <th>CensusTract</th>\n",
       "    </tr>\n",
       "  </thead>\n",
       "  <tbody>\n",
       "    <tr>\n",
       "      <th>0</th>\n",
       "      <td>1</td>\n",
       "      <td>1098000</td>\n",
       "      <td>58982</td>\n",
       "      <td>6001400100</td>\n",
       "    </tr>\n",
       "    <tr>\n",
       "      <th>1</th>\n",
       "      <td>2</td>\n",
       "      <td>895300</td>\n",
       "      <td>40466</td>\n",
       "      <td>6001400200</td>\n",
       "    </tr>\n",
       "    <tr>\n",
       "      <th>2</th>\n",
       "      <td>3</td>\n",
       "      <td>856600</td>\n",
       "      <td>66477</td>\n",
       "      <td>6001400300</td>\n",
       "    </tr>\n",
       "    <tr>\n",
       "      <th>3</th>\n",
       "      <td>4</td>\n",
       "      <td>817700</td>\n",
       "      <td>47958</td>\n",
       "      <td>6001400400</td>\n",
       "    </tr>\n",
       "    <tr>\n",
       "      <th>4</th>\n",
       "      <td>5</td>\n",
       "      <td>611300</td>\n",
       "      <td>89714</td>\n",
       "      <td>6001400500</td>\n",
       "    </tr>\n",
       "    <tr>\n",
       "      <th>...</th>\n",
       "      <td>...</td>\n",
       "      <td>...</td>\n",
       "      <td>...</td>\n",
       "      <td>...</td>\n",
       "    </tr>\n",
       "    <tr>\n",
       "      <th>7769</th>\n",
       "      <td>8052</td>\n",
       "      <td>195000</td>\n",
       "      <td>12129</td>\n",
       "      <td>6115040700</td>\n",
       "    </tr>\n",
       "    <tr>\n",
       "      <th>7770</th>\n",
       "      <td>8053</td>\n",
       "      <td>180100</td>\n",
       "      <td>22291</td>\n",
       "      <td>6115040800</td>\n",
       "    </tr>\n",
       "    <tr>\n",
       "      <th>7771</th>\n",
       "      <td>8054</td>\n",
       "      <td>198800</td>\n",
       "      <td>32632</td>\n",
       "      <td>6115040901</td>\n",
       "    </tr>\n",
       "    <tr>\n",
       "      <th>7772</th>\n",
       "      <td>8056</td>\n",
       "      <td>278400</td>\n",
       "      <td>27712</td>\n",
       "      <td>6115041000</td>\n",
       "    </tr>\n",
       "    <tr>\n",
       "      <th>7773</th>\n",
       "      <td>8057</td>\n",
       "      <td>167600</td>\n",
       "      <td>15666</td>\n",
       "      <td>6115041100</td>\n",
       "    </tr>\n",
       "  </tbody>\n",
       "</table>\n",
       "<p>7774 rows × 4 columns</p>\n",
       "</div>"
      ],
      "text/plain": [
       "      Unnamed: 0  Estimate_Median_value_(dollars)  \\\n",
       "0              1                          1098000   \n",
       "1              2                           895300   \n",
       "2              3                           856600   \n",
       "3              4                           817700   \n",
       "4              5                           611300   \n",
       "...          ...                              ...   \n",
       "7769        8052                           195000   \n",
       "7770        8053                           180100   \n",
       "7771        8054                           198800   \n",
       "7772        8056                           278400   \n",
       "7773        8057                           167600   \n",
       "\n",
       "      Margin_of_Error_Median_value_(dollars)  CensusTract  \n",
       "0                                      58982   6001400100  \n",
       "1                                      40466   6001400200  \n",
       "2                                      66477   6001400300  \n",
       "3                                      47958   6001400400  \n",
       "4                                      89714   6001400500  \n",
       "...                                      ...          ...  \n",
       "7769                                   12129   6115040700  \n",
       "7770                                   22291   6115040800  \n",
       "7771                                   32632   6115040901  \n",
       "7772                                   27712   6115041000  \n",
       "7773                                   15666   6115041100  \n",
       "\n",
       "[7774 rows x 4 columns]"
      ]
     },
     "execution_count": 3,
     "metadata": {},
     "output_type": "execute_result"
    }
   ],
   "source": [
    "y = df[\"Estimate_Median_value_(dollars)\"]\n",
    "X = df.drop(columns = \"Estimate_Median_value_(dollars)\")\n",
    "X = df.drop(columns = \"Geographic_Area_Name\")\n",
    "X"
   ]
  },
  {
   "cell_type": "code",
   "execution_count": 4,
   "id": "de1c8a3d",
   "metadata": {},
   "outputs": [
    {
     "data": {
      "text/plain": [
       "Unnamed: 0                                 int64\n",
       "Estimate_Median_value_(dollars)            int64\n",
       "Margin_of_Error_Median_value_(dollars)     int64\n",
       "CensusTract                                int64\n",
       "Geographic_Area_Name                      object\n",
       "dtype: object"
      ]
     },
     "execution_count": 4,
     "metadata": {},
     "output_type": "execute_result"
    }
   ],
   "source": [
    "df.dtypes"
   ]
  },
  {
   "cell_type": "code",
   "execution_count": 5,
   "id": "5aecc756",
   "metadata": {},
   "outputs": [
    {
     "ename": "NameError",
     "evalue": "name 'model' is not defined",
     "output_type": "error",
     "traceback": [
      "\u001b[1;31m---------------------------------------------------------------------------\u001b[0m",
      "\u001b[1;31mNameError\u001b[0m                                 Traceback (most recent call last)",
      "\u001b[1;32m~\\AppData\\Local\\Temp/ipykernel_34232/2094825289.py\u001b[0m in \u001b[0;36m<module>\u001b[1;34m\u001b[0m\n\u001b[1;32m----> 1\u001b[1;33m \u001b[0mmodel\u001b[0m\u001b[1;33m.\u001b[0m\u001b[0mscore\u001b[0m\u001b[1;33m(\u001b[0m\u001b[0mX\u001b[0m\u001b[1;33m,\u001b[0m\u001b[0my\u001b[0m\u001b[1;33m)\u001b[0m\u001b[1;33m\u001b[0m\u001b[1;33m\u001b[0m\u001b[0m\n\u001b[0m",
      "\u001b[1;31mNameError\u001b[0m: name 'model' is not defined"
     ]
    }
   ],
   "source": [
    "model.score(X,y)"
   ]
  },
  {
   "cell_type": "code",
   "execution_count": null,
   "id": "c9c26b9d",
   "metadata": {},
   "outputs": [],
   "source": [
    "model = LinearRegression()"
   ]
  },
  {
   "cell_type": "code",
   "execution_count": null,
   "id": "d86fa02c",
   "metadata": {},
   "outputs": [],
   "source": [
    "model.fit(X, y)"
   ]
  },
  {
   "cell_type": "code",
   "execution_count": null,
   "id": "44d77b48",
   "metadata": {},
   "outputs": [],
   "source": [
    "X.shape"
   ]
  },
  {
   "cell_type": "code",
   "execution_count": null,
   "id": "93637473",
   "metadata": {},
   "outputs": [],
   "source": [
    "y.shape"
   ]
  },
  {
   "cell_type": "code",
   "execution_count": null,
   "id": "0c0aec32",
   "metadata": {
    "scrolled": true
   },
   "outputs": [],
   "source": [
    "y_pred = model.predict(X)\n",
    "print(y_pred.shape)"
   ]
  },
  {
   "cell_type": "code",
   "execution_count": null,
   "id": "b368f9cf",
   "metadata": {},
   "outputs": [],
   "source": [
    "plt.scatter(X, y)\n",
    "plt.plot(X, y_pred, color='red')\n",
    "plt.show()"
   ]
  },
  {
   "cell_type": "code",
   "execution_count": null,
   "id": "ff60ea38",
   "metadata": {},
   "outputs": [],
   "source": []
  },
  {
   "cell_type": "code",
   "execution_count": null,
   "id": "c13730fe",
   "metadata": {},
   "outputs": [],
   "source": []
  }
 ],
 "metadata": {
  "kernelspec": {
   "display_name": "mlenv",
   "language": "python",
   "name": "mlenv"
  },
  "language_info": {
   "codemirror_mode": {
    "name": "ipython",
    "version": 3
   },
   "file_extension": ".py",
   "mimetype": "text/x-python",
   "name": "python",
   "nbconvert_exporter": "python",
   "pygments_lexer": "ipython3",
   "version": "3.7.11"
  }
 },
 "nbformat": 4,
 "nbformat_minor": 5
}
