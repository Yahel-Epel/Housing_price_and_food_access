{
 "cells": [
  {
   "cell_type": "code",
   "execution_count": 48,
   "id": "7e9c1921",
   "metadata": {},
   "outputs": [],
   "source": [
    "# Dependencies and Setup\n",
    "import requests\n",
    "import gmaps\n",
    "\n",
    "# Import API key\n",
    "from config import g_key"
   ]
  },
  {
   "cell_type": "code",
   "execution_count": 49,
   "id": "51e48716",
   "metadata": {},
   "outputs": [
    {
     "name": "stdout",
     "output_type": "stream",
     "text": [
      "https://maps.googleapis.com/maps/api/place/nearbysearch/json\n"
     ]
    },
    {
     "data": {
      "text/plain": [
       "{'html_attributions': [],\n",
       " 'results': [{'business_status': 'OPERATIONAL',\n",
       "   'geometry': {'location': {'lat': 32.747879, 'lng': -117.1580005},\n",
       "    'viewport': {'northeast': {'lat': 32.74942042989272,\n",
       "      'lng': -117.1568463701073},\n",
       "     'southwest': {'lat': 32.74672077010727, 'lng': -117.1595460298927}}},\n",
       "   'icon': 'https://maps.gstatic.com/mapfiles/place_api/icons/v1/png_71/shopping-71.png',\n",
       "   'icon_background_color': '#4B96F3',\n",
       "   'icon_mask_base_uri': 'https://maps.gstatic.com/mapfiles/place_api/icons/v2/shoppingcart_pinlet',\n",
       "   'name': 'Whole Foods Market',\n",
       "   'opening_hours': {'open_now': True},\n",
       "   'photos': [{'height': 3024,\n",
       "     'html_attributions': ['<a href=\"https://maps.google.com/maps/contrib/115027286096822577705\">Zed star</a>'],\n",
       "     'photo_reference': 'Aap_uEB15WbdRZBq5xJ-gkyC072gBNUWM4FFAIdBXa-Vd3RorReOgqmRxKa8veJrq6dz_d_oWGsCFT1hHQr2-rrYTMYLI_0BVSxenCtj846IbVwWfOyqZ-9ePLX4MNK16tESA5ZUdCm-hGgpWU2oGb5e6uMf3lYElr6D1l1ZOkPC7mj5n_Nm',\n",
       "     'width': 4032}],\n",
       "   'place_id': 'ChIJu4ooPdtU2YARQRos9M2wCRQ',\n",
       "   'plus_code': {'compound_code': 'PRXR+5Q San Diego, California',\n",
       "    'global_code': '8544PRXR+5Q'},\n",
       "   'price_level': 3,\n",
       "   'rating': 4.3,\n",
       "   'reference': 'ChIJu4ooPdtU2YARQRos9M2wCRQ',\n",
       "   'scope': 'GOOGLE',\n",
       "   'types': ['grocery_or_supermarket',\n",
       "    'supermarket',\n",
       "    'point_of_interest',\n",
       "    'health',\n",
       "    'food',\n",
       "    'store',\n",
       "    'establishment'],\n",
       "   'user_ratings_total': 2084,\n",
       "   'vicinity': '711 University Ave, San Diego'},\n",
       "  {'business_status': 'OPERATIONAL',\n",
       "   'geometry': {'location': {'lat': 32.8687404, 'lng': -117.2306258},\n",
       "    'viewport': {'northeast': {'lat': 32.87010872989273,\n",
       "      'lng': -117.2294512201073},\n",
       "     'southwest': {'lat': 32.86740907010728, 'lng': -117.2321508798927}}},\n",
       "   'icon': 'https://maps.gstatic.com/mapfiles/place_api/icons/v1/png_71/shopping-71.png',\n",
       "   'icon_background_color': '#4B96F3',\n",
       "   'icon_mask_base_uri': 'https://maps.gstatic.com/mapfiles/place_api/icons/v2/shoppingcart_pinlet',\n",
       "   'name': 'Whole Foods Market',\n",
       "   'opening_hours': {'open_now': True},\n",
       "   'photos': [{'height': 2268,\n",
       "     'html_attributions': ['<a href=\"https://maps.google.com/maps/contrib/104010024638283114673\">Victor Angelo</a>'],\n",
       "     'photo_reference': 'Aap_uEB64qBofZy9O7ycjfRN3VnIlj-QIVEvYQkLQDl1IAucCY_SK-0xfbFOVH1xJ4scdQOq4F-mQqMzDY480WDhNLcATK07hhc6E-Nj6Tg2vPU5cYxcg2Chi1w_sYPGcQ-EBbTHBoAkFpm4TGXIXPhOmXIMIrfyZqYz7c7vOQ81-9Q_XXwi',\n",
       "     'width': 4032}],\n",
       "   'place_id': 'ChIJsZLV6s0G3IARdUatYs6ezdg',\n",
       "   'plus_code': {'compound_code': 'VQ99+FP La Jolla, San Diego, CA',\n",
       "    'global_code': '8544VQ99+FP'},\n",
       "   'price_level': 3,\n",
       "   'rating': 4.3,\n",
       "   'reference': 'ChIJsZLV6s0G3IARdUatYs6ezdg',\n",
       "   'scope': 'GOOGLE',\n",
       "   'types': ['grocery_or_supermarket',\n",
       "    'supermarket',\n",
       "    'point_of_interest',\n",
       "    'health',\n",
       "    'food',\n",
       "    'store',\n",
       "    'establishment'],\n",
       "   'user_ratings_total': 994,\n",
       "   'vicinity': '8825 Villa La Jolla Dr, La Jolla'},\n",
       "  {'business_status': 'OPERATIONAL',\n",
       "   'geometry': {'location': {'lat': 32.9811507, 'lng': -117.2519665},\n",
       "    'viewport': {'northeast': {'lat': 32.98239727989272,\n",
       "      'lng': -117.2506752701073},\n",
       "     'southwest': {'lat': 32.97969762010727, 'lng': -117.2533749298927}}},\n",
       "   'icon': 'https://maps.gstatic.com/mapfiles/place_api/icons/v1/png_71/shopping-71.png',\n",
       "   'icon_background_color': '#4B96F3',\n",
       "   'icon_mask_base_uri': 'https://maps.gstatic.com/mapfiles/place_api/icons/v2/shoppingcart_pinlet',\n",
       "   'name': 'Whole Foods Market',\n",
       "   'opening_hours': {'open_now': True},\n",
       "   'photos': [{'height': 2974,\n",
       "     'html_attributions': ['<a href=\"https://maps.google.com/maps/contrib/115027286096822577705\">Zed star</a>'],\n",
       "     'photo_reference': 'Aap_uEAxibwt822ri5vU99zO2C20lJ_NUdKXshG4la993ofevyubFanf3urgPM82u1sNP-MGIXXbWILBdNs3aMfrBeJoGzTWXm5DkApR1ndWepbKiznd9cL96zIg9VT_MciWWOJAWExd38nfHHLWkZCf1fSP5lOXMoKubA0B-swbSPbAfzCn',\n",
       "     'width': 3966}],\n",
       "   'place_id': 'ChIJ2ywvatkI3IARAqRLXr1KgTc',\n",
       "   'plus_code': {'compound_code': 'XPJX+F6 Del Mar, California',\n",
       "    'global_code': '8544XPJX+F6'},\n",
       "   'price_level': 3,\n",
       "   'rating': 4.3,\n",
       "   'reference': 'ChIJ2ywvatkI3IARAqRLXr1KgTc',\n",
       "   'scope': 'GOOGLE',\n",
       "   'types': ['grocery_or_supermarket',\n",
       "    'supermarket',\n",
       "    'point_of_interest',\n",
       "    'health',\n",
       "    'food',\n",
       "    'store',\n",
       "    'establishment'],\n",
       "   'user_ratings_total': 618,\n",
       "   'vicinity': '2600 Via De La Valle Ste 100, Del Mar'}],\n",
       " 'status': 'OK'}"
      ]
     },
     "execution_count": 49,
     "metadata": {},
     "output_type": "execute_result"
    }
   ],
   "source": [
    "# coordinates = [\"32.8609,-117.2336\",\"33.7222,-116.3745\",\"33.6846,-117.8265\",\"33.6846,-117.8265\",\"34.1064,-117.5931\",\n",
    "# \"33.7701,-118.1937\",\"33.8358,-118.3406\",\"34.1425,-118.2551\",\"34.0736,-118.4004\",\"34.1490, -118.4514\",\"34.0195,-118.4912\",\n",
    "# \"34.3917,-118.5426\",\"34.1706,-118.8376\",\"34.0919,-118.6021\",\"36.9675,-121.9980\",\"34.1975,-119.1771\",\n",
    "# \"34.4208,-119.6982\",\"36.7378,-119.7871\",\"35.1428,-120.6413\",\"39.0968,-120.0324\",\"38.7521,-121.2880\",\n",
    "# \"36.9741, -122.0308\",\"37.3382,-121.886\",\"37.5485,-121.9886\",\"37.4419,-122.1430\",\"37.7749,-122.4194\",\n",
    "# \"37.8044, -122.2712\",\"37.7644,-121.9540\",\"37.9480,-122.0608\",\"38.1074,-122.5697\",\"38.2919,-122.4580\",\"38.4404,-122.7141\"]\n",
    "\n",
    "# i=0\n",
    "# i=i+1\n",
    "# while i < len(coordinates):\n",
    "    \n",
    "params = {\n",
    "    \"radius\": 50000,\n",
    "    \"key\": g_key,\n",
    "    \"name\": \"Whole Foods Market California\",\n",
    "    \"location\": \"32.8609,-117.2336\"\n",
    "}\n",
    "\n",
    "# \"36.7783,-119.4179\"\n",
    "# Use base URL to search for hotels in Paris.\n",
    "base_url = \"https://maps.googleapis.com/maps/api/place/nearbysearch/json\"\n",
    "# base_url = \"https://maps.googleapis.com/maps/api/place/findplacefromtext/output?\"+parameter\n",
    "print(base_url)\n",
    "# Make request and get the JSON data from the search.\n",
    "whole_foods = requests.get(base_url, params=params).json()\n",
    "# whole_foods = requests.get(base_url).json()\n",
    "\n",
    "\n",
    "whole_foods"
   ]
  },
  {
   "cell_type": "code",
   "execution_count": 19,
   "id": "86a535f4",
   "metadata": {},
   "outputs": [
    {
     "data": {
      "text/plain": [
       "3"
      ]
     },
     "execution_count": 19,
     "metadata": {},
     "output_type": "execute_result"
    }
   ],
   "source": [
    "len(whole_foods['results'])"
   ]
  },
  {
   "cell_type": "code",
   "execution_count": 20,
   "id": "d48aa78a",
   "metadata": {},
   "outputs": [
    {
     "data": {
      "text/plain": [
       "'Whole Foods Market'"
      ]
     },
     "execution_count": 20,
     "metadata": {},
     "output_type": "execute_result"
    }
   ],
   "source": [
    "whole_foods['results'][0][\"name\"]"
   ]
  },
  {
   "cell_type": "code",
   "execution_count": 21,
   "id": "b8288857",
   "metadata": {
    "scrolled": false
   },
   "outputs": [
    {
     "data": {
      "text/plain": [
       "{'business_status': 'OPERATIONAL',\n",
       " 'geometry': {'location': {'lat': 32.747879, 'lng': -117.1580005},\n",
       "  'viewport': {'northeast': {'lat': 32.74942042989272,\n",
       "    'lng': -117.1568463701073},\n",
       "   'southwest': {'lat': 32.74672077010727, 'lng': -117.1595460298927}}},\n",
       " 'icon': 'https://maps.gstatic.com/mapfiles/place_api/icons/v1/png_71/shopping-71.png',\n",
       " 'icon_background_color': '#4B96F3',\n",
       " 'icon_mask_base_uri': 'https://maps.gstatic.com/mapfiles/place_api/icons/v2/shoppingcart_pinlet',\n",
       " 'name': 'Whole Foods Market',\n",
       " 'opening_hours': {'open_now': True},\n",
       " 'photos': [{'height': 3024,\n",
       "   'html_attributions': ['<a href=\"https://maps.google.com/maps/contrib/115027286096822577705\">Zed star</a>'],\n",
       "   'photo_reference': 'Aap_uEAM_U99XnAVy8BQi_AohVJmmlcrfTVCgCK6b2k2UCUQRTu3jqw27hRFpKn9fjnL754Be81LthxKAt_W5GuhvALsS2IMA40KhWaeAPnVNjGXgk1bBwjpB2lRPcFOZzv7aNNxqsnAW1CgW30LaTMjNwvjNRhackzb-e4fDT5Nv_VoYvlS',\n",
       "   'width': 4032}],\n",
       " 'place_id': 'ChIJu4ooPdtU2YARQRos9M2wCRQ',\n",
       " 'plus_code': {'compound_code': 'PRXR+5Q San Diego, California',\n",
       "  'global_code': '8544PRXR+5Q'},\n",
       " 'price_level': 3,\n",
       " 'rating': 4.3,\n",
       " 'reference': 'ChIJu4ooPdtU2YARQRos9M2wCRQ',\n",
       " 'scope': 'GOOGLE',\n",
       " 'types': ['grocery_or_supermarket',\n",
       "  'supermarket',\n",
       "  'point_of_interest',\n",
       "  'food',\n",
       "  'health',\n",
       "  'store',\n",
       "  'establishment'],\n",
       " 'user_ratings_total': 2084,\n",
       " 'vicinity': '711 University Ave, San Diego'}"
      ]
     },
     "execution_count": 21,
     "metadata": {},
     "output_type": "execute_result"
    }
   ],
   "source": [
    "whole_foods['results'][0]"
   ]
  },
  {
   "cell_type": "code",
   "execution_count": 25,
   "id": "368b0afb",
   "metadata": {},
   "outputs": [],
   "source": [
    "address = whole_foods['results'][0][\"vicinity\"]\n",
    "lat = whole_foods['results'][0][\"geometry\"][\"location\"][\"lat\"]\n",
    "lng = whole_foods['results'][0][\"geometry\"][\"location\"][\"lng\"]"
   ]
  },
  {
   "cell_type": "code",
   "execution_count": null,
   "id": "21d1f601",
   "metadata": {},
   "outputs": [],
   "source": [
    "Print(address)\n",
    "Print(lat)\n",
    "Print(lng)"
   ]
  },
  {
   "cell_type": "code",
   "execution_count": null,
   "id": "4200e24e",
   "metadata": {},
   "outputs": [],
   "source": [
    "# create Dataframe"
   ]
  },
  {
   "cell_type": "code",
   "execution_count": null,
   "id": "3d68d562",
   "metadata": {},
   "outputs": [],
   "source": [
    "# Create the output File (CSV)\n",
    "output_data_file = \"WholeFoodsLocations.csv\"\n",
    "# Export the into a csv\n",
    "WFLoc_df.to_csv(output_data_file, index_label=\"\")"
   ]
  }
 ],
 "metadata": {
  "kernelspec": {
   "display_name": "PythonData",
   "language": "python",
   "name": "pythondata"
  },
  "language_info": {
   "codemirror_mode": {
    "name": "ipython",
    "version": 3
   },
   "file_extension": ".py",
   "mimetype": "text/x-python",
   "name": "python",
   "nbconvert_exporter": "python",
   "pygments_lexer": "ipython3",
   "version": "3.7.11"
  }
 },
 "nbformat": 4,
 "nbformat_minor": 5
}
