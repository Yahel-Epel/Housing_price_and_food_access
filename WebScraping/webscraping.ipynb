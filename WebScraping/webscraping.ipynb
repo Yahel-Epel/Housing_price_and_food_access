{
 "cells": [
  {
   "cell_type": "code",
   "execution_count": 1,
   "id": "46dc094c",
   "metadata": {},
   "outputs": [],
   "source": [
    "from bs4 import BeautifulSoup as bs\n",
    "from splinter import Browser\n"
   ]
  },
  {
   "cell_type": "code",
   "execution_count": 2,
   "id": "fa254dc1",
   "metadata": {},
   "outputs": [],
   "source": [
    "def init_browser():\n",
    "    executable_path = {\"executable_path\": ChromeDriverManager().install()}\n",
    "    return Browser(\"chrome\", **executable_path, headless=False)"
   ]
  },
  {
   "cell_type": "code",
   "execution_count": 3,
   "id": "6eba6e56",
   "metadata": {},
   "outputs": [],
   "source": [
    "# storeaddress = bs.find_all('div', class_ = 'all_addresses')"
   ]
  },
  {
   "cell_type": "code",
   "execution_count": 5,
   "id": "e5cda740",
   "metadata": {},
   "outputs": [],
   "source": [
    "def scrape_info():\n",
    "    #browser = init_browser()\n",
    "    browser = Browser()\n",
    "    # Visit whole foods\n",
    "    url = \"https://www.wholefoodsmarket.com/stores\" \n",
    "    browser.visit(url)\n",
    "    \n",
    "    driver.find_element_by_id('store-finder-search-bar').send_keys(\"California\")\n",
    "    \n",
    "    time.sleep(1)\n",
    "\n",
    "    # Scrape page into Soup\n",
    "    html = browser.html\n",
    "    soup = bs(html, \"html.parser\")\n",
    "\n",
    "    # Get the adresses\n",
    "    address = soup.find('div', class_='storeAddress')\n",
    "\n",
    "    # Get the address\n",
    "    all_addresses = address.find_all('storeAddress')[0].text\n",
    "\n",
    "#     # Get the max avg temp\n",
    "#     max_temp = avg_temps.find_all('strong')[1].text\n",
    "\n",
    "#     # BONUS: Find the src for the sloth image\n",
    "#     relative_image_path = soup.find_all('img')[2][\"src\"]\n",
    "#     sloth_img = url + relative_image_path\n",
    "\n",
    "#     # Store data in a dictionary\n",
    "#     costa_data = {\n",
    "#         \"sloth_img\": sloth_img,\n",
    "#         \"min_temp\": min_temp,\n",
    "#         \"max_temp\": max_temp\n",
    "#     }\n",
    "\n",
    "    # Close the browser after scraping\n",
    "    browser.quit()\n",
    "\n",
    "    # Return results\n",
    "    print(all_addresses)"
   ]
  },
  {
   "cell_type": "code",
   "execution_count": null,
   "id": "0582a731",
   "metadata": {},
   "outputs": [],
   "source": []
  }
 ],
 "metadata": {
  "kernelspec": {
   "display_name": "PythonData",
   "language": "python",
   "name": "pythondata"
  },
  "language_info": {
   "codemirror_mode": {
    "name": "ipython",
    "version": 3
   },
   "file_extension": ".py",
   "mimetype": "text/x-python",
   "name": "python",
   "nbconvert_exporter": "python",
   "pygments_lexer": "ipython3",
   "version": "3.7.11"
  }
 },
 "nbformat": 4,
 "nbformat_minor": 5
}
