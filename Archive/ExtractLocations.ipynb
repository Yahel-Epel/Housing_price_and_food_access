{
 "cells": [
  {
   "cell_type": "code",
   "execution_count": 1,
   "id": "7e9c1921",
   "metadata": {},
   "outputs": [],
   "source": [
    "# Dependencies and Setup\n",
    "import requests\n",
    "import gmaps\n",
    "\n",
    "# Import API key\n",
    "from config import g_key"
   ]
  },
  {
   "cell_type": "code",
   "execution_count": 2,
   "id": "51e48716",
   "metadata": {},
   "outputs": [
    {
     "name": "stdout",
     "output_type": "stream",
     "text": [
      "https://maps.googleapis.com/maps/api/place/nearbysearch/json\n"
     ]
    },
    {
     "data": {
      "text/plain": [
       "{'error_message': 'You must enable Billing on the Google Cloud Project at https://console.cloud.google.com/project/_/billing/enable Learn more at https://developers.google.com/maps/gmp-get-started',\n",
       " 'html_attributions': [],\n",
       " 'results': [],\n",
       " 'status': 'REQUEST_DENIED'}"
      ]
     },
     "execution_count": 2,
     "metadata": {},
     "output_type": "execute_result"
    }
   ],
   "source": [
    "coordinates = [[32.8609,-117.2336],[33.7222,-116.3745],[33.6846,-117.8265],[33.6846,-117.8265],[34.1064,-117.5931],\n",
    "[33.7701,-118.1937],[33.8358,-118.3406],[34.1425,-118.2551],[34.0736,-118.4004],[34.1490, -118.4514],[34.0195,-118.4912],\n",
    "[34.3917,-118.5426],[34.1706,-118.8376],[34.0919,-118.6021],[36.9675,-121.9980],[34.1975,-119.1771],\n",
    "[34.4208,-119.6982],[36.7378,-119.7871],[35.1428,-120.6413],[39.0968,-120.0324],[38.7521,-121.2880],\n",
    "[36.9741,-122.0308],[37.3382,-121.886],[37.5485,-121.9886],[37.4419,-122.1430],[37.7749,-122.4194],\n",
    "[37.8044,-122.2712],[37.7644,-121.9540],[37.9480,-122.0608],[38.1074,-122.5697],[38.2919,-122.4580],[38.4404,-122.7141]]\n",
    "\n",
    "params = {\n",
    "    \"radius\": 50000,\n",
    "    \"key\": g_key,\n",
    "    \"name\": \"Whole Foods Market California\",\n",
    "}\n",
    "\n",
    "# Use base URL to search for whole foods\n",
    "base_url = \"https://maps.googleapis.com/maps/api/place/nearbysearch/json\"\n",
    "\n",
    "for coordinate in coordinates:\n",
    "#     params = {\n",
    "#     \"radius\": 50000,\n",
    "#     \"key\": g_key,\n",
    "#     \"name\": \"Whole Foods Market California\",\n",
    "#     \"location\" : [coordinate]\n",
    "#     }\n",
    "    params[\"location\"]=coordinate\n",
    "    # params{\"location\":[xxxx,xxxx]}\n",
    "    \n",
    "    # Make request and get the JSON data from the search.\n",
    "    whole_foods = requests.get(base_url, params=params).json()\n",
    "\n",
    "# base_url = \"https://maps.googleapis.com/maps/api/place/findplacefromtext/output?\"+parameter\n",
    "print(base_url)\n",
    "\n",
    "# whole_foods = requests.get(base_url).json()\n",
    "\n",
    "whole_foods"
   ]
  },
  {
   "cell_type": "code",
   "execution_count": 3,
   "id": "86a535f4",
   "metadata": {},
   "outputs": [
    {
     "data": {
      "text/plain": [
       "0"
      ]
     },
     "execution_count": 3,
     "metadata": {},
     "output_type": "execute_result"
    }
   ],
   "source": [
    "len(whole_foods['results'])"
   ]
  },
  {
   "cell_type": "code",
   "execution_count": 4,
   "id": "d48aa78a",
   "metadata": {},
   "outputs": [
    {
     "ename": "IndexError",
     "evalue": "list index out of range",
     "output_type": "error",
     "traceback": [
      "\u001b[1;31m---------------------------------------------------------------------------\u001b[0m",
      "\u001b[1;31mIndexError\u001b[0m                                Traceback (most recent call last)",
      "\u001b[1;32m~\\AppData\\Local\\Temp\\ipykernel_12472\\1937624423.py\u001b[0m in \u001b[0;36m<module>\u001b[1;34m\u001b[0m\n\u001b[1;32m----> 1\u001b[1;33m \u001b[0mwhole_foods\u001b[0m\u001b[1;33m[\u001b[0m\u001b[1;34m'results'\u001b[0m\u001b[1;33m]\u001b[0m\u001b[1;33m[\u001b[0m\u001b[1;36m0\u001b[0m\u001b[1;33m]\u001b[0m\u001b[1;33m[\u001b[0m\u001b[1;34m\"name\"\u001b[0m\u001b[1;33m]\u001b[0m\u001b[1;33m\u001b[0m\u001b[1;33m\u001b[0m\u001b[0m\n\u001b[0m",
      "\u001b[1;31mIndexError\u001b[0m: list index out of range"
     ]
    }
   ],
   "source": [
    "whole_foods['results'][0][\"name\"]"
   ]
  },
  {
   "cell_type": "code",
   "execution_count": null,
   "id": "b8288857",
   "metadata": {
    "scrolled": false
   },
   "outputs": [],
   "source": [
    "whole_foods['results'][0]"
   ]
  },
  {
   "cell_type": "code",
   "execution_count": null,
   "id": "368b0afb",
   "metadata": {},
   "outputs": [],
   "source": [
    "address = whole_foods['results'][0][\"vicinity\"]\n",
    "lat = whole_foods['results'][0][\"geometry\"][\"location\"][\"lat\"]\n",
    "lng = whole_foods['results'][0][\"geometry\"][\"location\"][\"lng\"]"
   ]
  },
  {
   "cell_type": "code",
   "execution_count": null,
   "id": "21d1f601",
   "metadata": {},
   "outputs": [],
   "source": [
    "Print(address)\n",
    "Print(lat)\n",
    "Print(lng)"
   ]
  },
  {
   "cell_type": "code",
   "execution_count": null,
   "id": "4200e24e",
   "metadata": {},
   "outputs": [],
   "source": [
    "# create Dataframe"
   ]
  },
  {
   "cell_type": "code",
   "execution_count": null,
   "id": "3d68d562",
   "metadata": {},
   "outputs": [],
   "source": [
    "# Create the output File (CSV)\n",
    "output_data_file = \"WholeFoodsLocations.csv\"\n",
    "# Export the into a csv\n",
    "WFLoc_df.to_csv(output_data_file, index_label=\"\")"
   ]
  }
 ],
 "metadata": {
  "kernelspec": {
   "display_name": "PythonData",
   "language": "python",
   "name": "pythondata"
  },
  "language_info": {
   "codemirror_mode": {
    "name": "ipython",
    "version": 3
   },
   "file_extension": ".py",
   "mimetype": "text/x-python",
   "name": "python",
   "nbconvert_exporter": "python",
   "pygments_lexer": "ipython3",
   "version": "3.7.11"
  }
 },
 "nbformat": 4,
 "nbformat_minor": 5
}
