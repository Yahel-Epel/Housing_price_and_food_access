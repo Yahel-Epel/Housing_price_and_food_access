{
 "cells": [
  {
   "cell_type": "code",
   "execution_count": 23,
   "id": "fd3b48e7",
   "metadata": {},
   "outputs": [],
   "source": [
    "import pandas as pd\n",
    "import requests\n",
    "import matplotlib.pyplot as plt\n",
    "import numpy as np"
   ]
  },
  {
   "cell_type": "code",
   "execution_count": 24,
   "id": "ffbe92c3",
   "metadata": {},
   "outputs": [],
   "source": [
    "from config import Zillow_API, RapidAPI_Key\n",
    "import time\n",
    "from datetime import datetime\n",
    "from citipy import citipy"
   ]
  },
  {
   "cell_type": "code",
   "execution_count": 25,
   "id": "e0137dae",
   "metadata": {},
   "outputs": [
    {
     "data": {
      "text/plain": [
       "<zip at 0x215146236c0>"
      ]
     },
     "execution_count": 25,
     "metadata": {},
     "output_type": "execute_result"
    }
   ],
   "source": [
    "# Create a set of random latitude and longitude combinations.\n",
    "lats = np.random.uniform(low=10.000, high=50.000, size=2000)\n",
    "lngs = np.random.uniform(low=-180.000, high=180.000, size=2000)\n",
    "lat_lngs = zip(lats, lngs)\n",
    "lat_lngs"
   ]
  },
  {
   "cell_type": "code",
   "execution_count": 26,
   "id": "4fc2a8d3",
   "metadata": {},
   "outputs": [],
   "source": [
    "url=\"https://zillow-com1.p.rapidapi.com/property\"+Zillow_API"
   ]
  },
  {
   "cell_type": "code",
   "execution_count": 27,
   "id": "389b9d8f",
   "metadata": {},
   "outputs": [],
   "source": [
    "coordinates=list(lat_lngs)"
   ]
  },
  {
   "cell_type": "code",
   "execution_count": 28,
   "id": "c66247f0",
   "metadata": {},
   "outputs": [
    {
     "data": {
      "text/plain": [
       "918"
      ]
     },
     "execution_count": 28,
     "metadata": {},
     "output_type": "execute_result"
    }
   ],
   "source": [
    "#Get the nearest city using the citipy module.\n",
    "cities=[]\n",
    "for coordinate in coordinates:\n",
    "    city = citipy.nearest_city(coordinate[0], coordinate[1]).city_name\n",
    "    if city  not in cities:\n",
    "        cities.append(city)\n",
    "len(cities)"
   ]
  },
  {
   "cell_type": "code",
   "execution_count": 29,
   "id": "b6c750e4",
   "metadata": {},
   "outputs": [
    {
     "name": "stdout",
     "output_type": "stream",
     "text": [
      "Beginning Data Retrieval     \n",
      "-----------------------------\n"
     ]
    }
   ],
   "source": [
    "# Create an empty list to hold the weather data.\n",
    "city_data = []\n",
    "# Print the beginning of the logging.\n",
    "print(\"Beginning Data Retrieval     \")\n",
    "print(\"-----------------------------\")\n",
    "\n",
    "# Create counters.\n",
    "record_count = 1\n",
    "set_count = 1"
   ]
  },
  {
   "cell_type": "code",
   "execution_count": 101,
   "id": "30c6d8e3",
   "metadata": {},
   "outputs": [
    {
     "name": "stdout",
     "output_type": "stream",
     "text": [
      "{\"taxAssessedValue\":116600,\"monthlyHoaFee\":null,\"schools\":[{\"name\":\"Walker Elementary School\",\"rating\":5,\"type\":\"Public\"},{\"name\":\"Northwest Middle School\",\"rating\":3,\"type\":\"Public\"},{\"name\":\"Hazelwood West High School\",\"rating\":2,\"type\":\"Public\"}],\"zpid\":2592948,\"price\":0,\"priceForHDP\":0,\"priceChange\":null,\"zestimate\":162500,\"rentZestimate\":1466,\"currency\":\"USD\",\"bedrooms\":4,\"bathrooms\":2,\"livingArea\":2126,\"livingAreaValue\":2126,\"livingAreaUnits\":\"Square Feet\",\"livingAreaUnitsShort\":\"sqft\",\"lotSize\":7949,\"lotAreaValue\":7949.7,\"lotAreaUnits\":\"Square Feet\",\"daysOnZillow\":45,\"address\":{\"streetAddress\":\"725 Pelican Ln\",\"city\":\"Florissant\",\"state\":\"MO\",\"zipcode\":\"63031\"},\"latitude\":38.813583,\"longitude\":-90.32847,\"homeStatus\":\"RECENTLY_SOLD\",\"homeType\":\"SINGLE_FAMILY\",\"hdpUrl\":\"/homedetails/725-Pelican-Ln-Florissant-MO-63031/2592948_zpid/\",\"listing_sub_type\":{\"is_newHome\":false,\"is_forAuction\":false,\"is_bankOwned\":false,\"is_foreclosure\":false,\"is_FSBO\":false,\"is_comingSoon\":false,\"is_FSBA\":false},\"providerListingID\":null,\"attributionInfo\":{\"mlsId\":\"21087172\",\"mlsName\":\"MARIS\",\"providerLogo\":\"https://photos.zillowstatic.com/fp/fb838799558bceb581b5706504130b46-zillow_web_95_35.jpg\",\"agentName\":\"Cynthia Wilson                    \",\"agentPhoneNumber\":\"636-441-8200\",\"brokerName\":\"RED Realty\",\"brokerPhoneNumber\":\"636-441-8200\",\"trueStatus\":\"Closed\"},\"isPremierBuilder\":false,\"isZillowOwned\":false,\"newConstructionType\":null,\"isNonOwnerOccupied\":false,\"zestimateDeepDiveData\":{\"taxRatioModel\":{\"estimate\":161336,\"taxRatio\":1.3836706689536877,\"taxValue\":116600,\"taxAssessmentYear\":2021}},\"walkScore\":{\"walkscore\":22,\"description\":\"Car-Dependent\",\"ws_link\":\"https://www.walkscore.com/score/loc/lat=38.813583/lng=-90.32847/?utm_source=zillow2.com&utm_medium=ws_api&utm_campaign=ws_api\"},\"downPaymentAssistance\":null,\"localProtections\":{\"protectionLevels\":{\"lgbt\":{\"level\":\"county\",\"statePageUrl\":\"http://www.lgbtmap.org/equality_maps/profile_state/mo\"},\"soi\":{\"level\":\"state\"},\"voucher\":{\"level\":\"state\"}},\"protections\":[{\"covers\":{\"genderIdentity\":true,\"sexualOrientation\":true,\"housingChoiceVoucher\":null,\"sourceOfIncome\":null},\"description\":\"On June 15, 2020, the US Supreme Court ruled that employers subject to Title VII cannot hire, fire, or otherwise discriminate against employees based on their sexual orientation or gender identity.\",\"type\":\"Employment\"},{\"covers\":{\"genderIdentity\":true,\"sexualOrientation\":true,\"housingChoiceVoucher\":false,\"sourceOfIncome\":false},\"description\":\"Protection from being unfairly evicted, denied housing, or refused the ability to rent or buy housing.\\nOn February 11, 2021, HUD announced that it interprets the federal Fair Housing Act to prohibit housing discrimination on the basis of sexual orientation and gender identity.\",\"type\":\"Housing\"},{\"covers\":{\"genderIdentity\":true,\"sexualOrientation\":true,\"housingChoiceVoucher\":null,\"sourceOfIncome\":null},\"description\":\"Protection from being unfairly refused services or entry to or from places accessible to the public (retail stores, restaurants, parks, hotels, etc).\",\"type\":\"Public Accommodations\"}]}}\n"
     ]
    }
   ],
   "source": [
    "import requests\n",
    "\n",
    "url = \"https://zillow-homedata1.p.rapidapi.com/extend\"\n",
    "\n",
    "payload = {\"id\": \"2592948\"}\n",
    "headers = {\n",
    "\t\"content-type\": \"application/json\",\n",
    "\t\"X-RapidAPI-Host\": \"zillow-homedata1.p.rapidapi.com\",\n",
    "\t\"X-RapidAPI-Key\": RapidAPI_Key\n",
    "}\n",
    "\n",
    "response = requests.request(\"POST\", url, json=payload, headers=headers)\n",
    "\n",
    "print(response.text)"
   ]
  },
  {
   "cell_type": "code",
   "execution_count": 102,
   "id": "05cd37d8",
   "metadata": {},
   "outputs": [
    {
     "data": {
      "text/plain": [
       "200"
      ]
     },
     "execution_count": 102,
     "metadata": {},
     "output_type": "execute_result"
    }
   ],
   "source": [
    "response.status_code\n"
   ]
  },
  {
   "cell_type": "code",
   "execution_count": 103,
   "id": "102d3ffc",
   "metadata": {},
   "outputs": [],
   "source": [
    "from bs4 import BeautifulSoup"
   ]
  },
  {
   "cell_type": "code",
   "execution_count": 104,
   "id": "c1f0f7f3",
   "metadata": {},
   "outputs": [
    {
     "data": {
      "text/plain": [
       "{\"taxAssessedValue\":116600,\"monthlyHoaFee\":null,\"schools\":[{\"name\":\"Walker Elementary School\",\"rating\":5,\"type\":\"Public\"},{\"name\":\"Northwest Middle School\",\"rating\":3,\"type\":\"Public\"},{\"name\":\"Hazelwood West High School\",\"rating\":2,\"type\":\"Public\"}],\"zpid\":2592948,\"price\":0,\"priceForHDP\":0,\"priceChange\":null,\"zestimate\":162500,\"rentZestimate\":1466,\"currency\":\"USD\",\"bedrooms\":4,\"bathrooms\":2,\"livingArea\":2126,\"livingAreaValue\":2126,\"livingAreaUnits\":\"Square Feet\",\"livingAreaUnitsShort\":\"sqft\",\"lotSize\":7949,\"lotAreaValue\":7949.7,\"lotAreaUnits\":\"Square Feet\",\"daysOnZillow\":45,\"address\":{\"streetAddress\":\"725 Pelican Ln\",\"city\":\"Florissant\",\"state\":\"MO\",\"zipcode\":\"63031\"},\"latitude\":38.813583,\"longitude\":-90.32847,\"homeStatus\":\"RECENTLY_SOLD\",\"homeType\":\"SINGLE_FAMILY\",\"hdpUrl\":\"/homedetails/725-Pelican-Ln-Florissant-MO-63031/2592948_zpid/\",\"listing_sub_type\":{\"is_newHome\":false,\"is_forAuction\":false,\"is_bankOwned\":false,\"is_foreclosure\":false,\"is_FSBO\":false,\"is_comingSoon\":false,\"is_FSBA\":false},\"providerListingID\":null,\"attributionInfo\":{\"mlsId\":\"21087172\",\"mlsName\":\"MARIS\",\"providerLogo\":\"https://photos.zillowstatic.com/fp/fb838799558bceb581b5706504130b46-zillow_web_95_35.jpg\",\"agentName\":\"Cynthia Wilson                    \",\"agentPhoneNumber\":\"636-441-8200\",\"brokerName\":\"RED Realty\",\"brokerPhoneNumber\":\"636-441-8200\",\"trueStatus\":\"Closed\"},\"isPremierBuilder\":false,\"isZillowOwned\":false,\"newConstructionType\":null,\"isNonOwnerOccupied\":false,\"zestimateDeepDiveData\":{\"taxRatioModel\":{\"estimate\":161336,\"taxRatio\":1.3836706689536877,\"taxValue\":116600,\"taxAssessmentYear\":2021}},\"walkScore\":{\"walkscore\":22,\"description\":\"Car-Dependent\",\"ws_link\":\"https://www.walkscore.com/score/loc/lat=38.813583/lng=-90.32847/?utm_source=zillow2.com&amp;utm_medium=ws_api&amp;utm_campaign=ws_api\"},\"downPaymentAssistance\":null,\"localProtections\":{\"protectionLevels\":{\"lgbt\":{\"level\":\"county\",\"statePageUrl\":\"http://www.lgbtmap.org/equality_maps/profile_state/mo\"},\"soi\":{\"level\":\"state\"},\"voucher\":{\"level\":\"state\"}},\"protections\":[{\"covers\":{\"genderIdentity\":true,\"sexualOrientation\":true,\"housingChoiceVoucher\":null,\"sourceOfIncome\":null},\"description\":\"On June 15, 2020, the US Supreme Court ruled that employers subject to Title VII cannot hire, fire, or otherwise discriminate against employees based on their sexual orientation or gender identity.\",\"type\":\"Employment\"},{\"covers\":{\"genderIdentity\":true,\"sexualOrientation\":true,\"housingChoiceVoucher\":false,\"sourceOfIncome\":false},\"description\":\"Protection from being unfairly evicted, denied housing, or refused the ability to rent or buy housing.\\nOn February 11, 2021, HUD announced that it interprets the federal Fair Housing Act to prohibit housing discrimination on the basis of sexual orientation and gender identity.\",\"type\":\"Housing\"},{\"covers\":{\"genderIdentity\":true,\"sexualOrientation\":true,\"housingChoiceVoucher\":null,\"sourceOfIncome\":null},\"description\":\"Protection from being unfairly refused services or entry to or from places accessible to the public (retail stores, restaurants, parks, hotels, etc).\",\"type\":\"Public Accommodations\"}]}}"
      ]
     },
     "execution_count": 104,
     "metadata": {},
     "output_type": "execute_result"
    }
   ],
   "source": [
    "soup=BeautifulSoup(response.text,\"html.parser\")\n",
    "soup"
   ]
  },
  {
   "cell_type": "code",
   "execution_count": 105,
   "id": "9223aa60",
   "metadata": {},
   "outputs": [
    {
     "data": {
      "text/plain": [
       "'{\"taxAssessedValue\":116600,\"monthlyHoaFee\":null,\"schools\":[{\"name\":\"Walker Elementary School\",\"rating\":5,\"type\":\"Public\"},{\"name\":\"Northwest Middle School\",\"rating\":3,\"type\":\"Public\"},{\"name\":\"Hazelwood West High School\",\"rating\":2,\"type\":\"Public\"}],\"zpid\":2592948,\"price\":0,\"priceForHDP\":0,\"priceChange\":null,\"zestimate\":162500,\"rentZestimate\":1466,\"currency\":\"USD\",\"bedrooms\":4,\"bathrooms\":2,\"livingArea\":2126,\"livingAreaValue\":2126,\"livingAreaUnits\":\"Square Feet\",\"livingAreaUnitsShort\":\"sqft\",\"lotSize\":7949,\"lotAreaValue\":7949.7,\"lotAreaUnits\":\"Square Feet\",\"daysOnZillow\":45,\"address\":{\"streetAddress\":\"725 Pelican Ln\",\"city\":\"Florissant\",\"state\":\"MO\",\"zipcode\":\"63031\"},\"latitude\":38.813583,\"longitude\":-90.32847,\"homeStatus\":\"RECENTLY_SOLD\",\"homeType\":\"SINGLE_FAMILY\",\"hdpUrl\":\"/homedetails/725-Pelican-Ln-Florissant-MO-63031/2592948_zpid/\",\"listing_sub_type\":{\"is_newHome\":false,\"is_forAuction\":false,\"is_bankOwned\":false,\"is_foreclosure\":false,\"is_FSBO\":false,\"is_comingSoon\":false,\"is_FSBA\":false},\"providerListingID\":null,\"attributionInfo\":{\"mlsId\":\"21087172\",\"mlsName\":\"MARIS\",\"providerLogo\":\"https://photos.zillowstatic.com/fp/fb838799558bceb581b5706504130b46-zillow_web_95_35.jpg\",\"agentName\":\"Cynthia Wilson                    \",\"agentPhoneNumber\":\"636-441-8200\",\"brokerName\":\"RED Realty\",\"brokerPhoneNumber\":\"636-441-8200\",\"trueStatus\":\"Closed\"},\"isPremierBuilder\":false,\"isZillowOwned\":false,\"newConstructionType\":null,\"isNonOwnerOccupied\":false,\"zestimateDeepDiveData\":{\"taxRatioModel\":{\"estimate\":161336,\"taxRatio\":1.3836706689536877,\"taxValue\":116600,\"taxAssessmentYear\":2021}},\"walkScore\":{\"walkscore\":22,\"description\":\"Car-Dependent\",\"ws_link\":\"https://www.walkscore.com/score/loc/lat=38.813583/lng=-90.32847/?utm_source=zillow2.com&amp;utm_medium=ws_api&amp;utm_campaign=ws_api\"},\"downPaymentAssistance\":null,\"localProtections\":{\"protectionLevels\":{\"lgbt\":{\"level\":\"county\",\"statePageUrl\":\"http://www.lgbtmap.org/equality_maps/profile_state/mo\"},\"soi\":{\"level\":\"state\"},\"voucher\":{\"level\":\"state\"}},\"protections\":[{\"covers\":{\"genderIdentity\":true,\"sexualOrientation\":true,\"housingChoiceVoucher\":null,\"sourceOfIncome\":null},\"description\":\"On June 15, 2020, the US Supreme Court ruled that employers subject to Title VII cannot hire, fire, or otherwise discriminate against employees based on their sexual orientation or gender identity.\",\"type\":\"Employment\"},{\"covers\":{\"genderIdentity\":true,\"sexualOrientation\":true,\"housingChoiceVoucher\":false,\"sourceOfIncome\":false},\"description\":\"Protection from being unfairly evicted, denied housing, or refused the ability to rent or buy housing.\\\\nOn February 11, 2021, HUD announced that it interprets the federal Fair Housing Act to prohibit housing discrimination on the basis of sexual orientation and gender identity.\",\"type\":\"Housing\"},{\"covers\":{\"genderIdentity\":true,\"sexualOrientation\":true,\"housingChoiceVoucher\":null,\"sourceOfIncome\":null},\"description\":\"Protection from being unfairly refused services or entry to or from places accessible to the public (retail stores, restaurants, parks, hotels, etc).\",\"type\":\"Public Accommodations\"}]}}\\n'"
      ]
     },
     "execution_count": 105,
     "metadata": {},
     "output_type": "execute_result"
    }
   ],
   "source": [
    "soup.prettify()"
   ]
  },
  {
   "cell_type": "code",
   "execution_count": 106,
   "id": "5e695d66",
   "metadata": {},
   "outputs": [],
   "source": [
    "houses=response.json()"
   ]
  },
  {
   "cell_type": "code",
   "execution_count": 107,
   "id": "7d209004",
   "metadata": {},
   "outputs": [
    {
     "data": {
      "text/plain": [
       "{'taxAssessedValue': 116600,\n",
       " 'monthlyHoaFee': None,\n",
       " 'schools': [{'name': 'Walker Elementary School',\n",
       "   'rating': 5,\n",
       "   'type': 'Public'},\n",
       "  {'name': 'Northwest Middle School', 'rating': 3, 'type': 'Public'},\n",
       "  {'name': 'Hazelwood West High School', 'rating': 2, 'type': 'Public'}],\n",
       " 'zpid': 2592948,\n",
       " 'price': 0,\n",
       " 'priceForHDP': 0,\n",
       " 'priceChange': None,\n",
       " 'zestimate': 162500,\n",
       " 'rentZestimate': 1466,\n",
       " 'currency': 'USD',\n",
       " 'bedrooms': 4,\n",
       " 'bathrooms': 2,\n",
       " 'livingArea': 2126,\n",
       " 'livingAreaValue': 2126,\n",
       " 'livingAreaUnits': 'Square Feet',\n",
       " 'livingAreaUnitsShort': 'sqft',\n",
       " 'lotSize': 7949,\n",
       " 'lotAreaValue': 7949.7,\n",
       " 'lotAreaUnits': 'Square Feet',\n",
       " 'daysOnZillow': 45,\n",
       " 'address': {'streetAddress': '725 Pelican Ln',\n",
       "  'city': 'Florissant',\n",
       "  'state': 'MO',\n",
       "  'zipcode': '63031'},\n",
       " 'latitude': 38.813583,\n",
       " 'longitude': -90.32847,\n",
       " 'homeStatus': 'RECENTLY_SOLD',\n",
       " 'homeType': 'SINGLE_FAMILY',\n",
       " 'hdpUrl': '/homedetails/725-Pelican-Ln-Florissant-MO-63031/2592948_zpid/',\n",
       " 'listing_sub_type': {'is_newHome': False,\n",
       "  'is_forAuction': False,\n",
       "  'is_bankOwned': False,\n",
       "  'is_foreclosure': False,\n",
       "  'is_FSBO': False,\n",
       "  'is_comingSoon': False,\n",
       "  'is_FSBA': False},\n",
       " 'providerListingID': None,\n",
       " 'attributionInfo': {'mlsId': '21087172',\n",
       "  'mlsName': 'MARIS',\n",
       "  'providerLogo': 'https://photos.zillowstatic.com/fp/fb838799558bceb581b5706504130b46-zillow_web_95_35.jpg',\n",
       "  'agentName': 'Cynthia Wilson                    ',\n",
       "  'agentPhoneNumber': '636-441-8200',\n",
       "  'brokerName': 'RED Realty',\n",
       "  'brokerPhoneNumber': '636-441-8200',\n",
       "  'trueStatus': 'Closed'},\n",
       " 'isPremierBuilder': False,\n",
       " 'isZillowOwned': False,\n",
       " 'newConstructionType': None,\n",
       " 'isNonOwnerOccupied': False,\n",
       " 'zestimateDeepDiveData': {'taxRatioModel': {'estimate': 161336,\n",
       "   'taxRatio': 1.3836706689536877,\n",
       "   'taxValue': 116600,\n",
       "   'taxAssessmentYear': 2021}},\n",
       " 'walkScore': {'walkscore': 22,\n",
       "  'description': 'Car-Dependent',\n",
       "  'ws_link': 'https://www.walkscore.com/score/loc/lat=38.813583/lng=-90.32847/?utm_source=zillow2.com&utm_medium=ws_api&utm_campaign=ws_api'},\n",
       " 'downPaymentAssistance': None,\n",
       " 'localProtections': {'protectionLevels': {'lgbt': {'level': 'county',\n",
       "    'statePageUrl': 'http://www.lgbtmap.org/equality_maps/profile_state/mo'},\n",
       "   'soi': {'level': 'state'},\n",
       "   'voucher': {'level': 'state'}},\n",
       "  'protections': [{'covers': {'genderIdentity': True,\n",
       "     'sexualOrientation': True,\n",
       "     'housingChoiceVoucher': None,\n",
       "     'sourceOfIncome': None},\n",
       "    'description': 'On June 15, 2020, the US Supreme Court ruled that employers subject to Title VII cannot hire, fire, or otherwise discriminate against employees based on their sexual orientation or gender identity.',\n",
       "    'type': 'Employment'},\n",
       "   {'covers': {'genderIdentity': True,\n",
       "     'sexualOrientation': True,\n",
       "     'housingChoiceVoucher': False,\n",
       "     'sourceOfIncome': False},\n",
       "    'description': 'Protection from being unfairly evicted, denied housing, or refused the ability to rent or buy housing.\\nOn February 11, 2021, HUD announced that it interprets the federal Fair Housing Act to prohibit housing discrimination on the basis of sexual orientation and gender identity.',\n",
       "    'type': 'Housing'},\n",
       "   {'covers': {'genderIdentity': True,\n",
       "     'sexualOrientation': True,\n",
       "     'housingChoiceVoucher': None,\n",
       "     'sourceOfIncome': None},\n",
       "    'description': 'Protection from being unfairly refused services or entry to or from places accessible to the public (retail stores, restaurants, parks, hotels, etc).',\n",
       "    'type': 'Public Accommodations'}]}}"
      ]
     },
     "execution_count": 107,
     "metadata": {},
     "output_type": "execute_result"
    }
   ],
   "source": [
    "houses"
   ]
  },
  {
   "cell_type": "code",
   "execution_count": 108,
   "id": "73aafbde",
   "metadata": {},
   "outputs": [
    {
     "data": {
      "text/plain": [
       "37"
      ]
     },
     "execution_count": 108,
     "metadata": {},
     "output_type": "execute_result"
    }
   ],
   "source": [
    "len(houses)"
   ]
  },
  {
   "cell_type": "code",
   "execution_count": 109,
   "id": "e8b3ffe1",
   "metadata": {},
   "outputs": [
    {
     "data": {
      "text/plain": [
       "162500"
      ]
     },
     "execution_count": 109,
     "metadata": {},
     "output_type": "execute_result"
    }
   ],
   "source": [
    "houses[\"zestimate\"]"
   ]
  },
  {
   "cell_type": "code",
   "execution_count": 110,
   "id": "3250087e",
   "metadata": {},
   "outputs": [
    {
     "data": {
      "text/html": [
       "<div>\n",
       "<style scoped>\n",
       "    .dataframe tbody tr th:only-of-type {\n",
       "        vertical-align: middle;\n",
       "    }\n",
       "\n",
       "    .dataframe tbody tr th {\n",
       "        vertical-align: top;\n",
       "    }\n",
       "\n",
       "    .dataframe thead th {\n",
       "        text-align: right;\n",
       "    }\n",
       "</style>\n",
       "<table border=\"1\" class=\"dataframe\">\n",
       "  <thead>\n",
       "    <tr style=\"text-align: right;\">\n",
       "      <th></th>\n",
       "      <th>0</th>\n",
       "    </tr>\n",
       "  </thead>\n",
       "  <tbody>\n",
       "    <tr>\n",
       "      <th>taxAssessedValue</th>\n",
       "      <td>116600</td>\n",
       "    </tr>\n",
       "    <tr>\n",
       "      <th>monthlyHoaFee</th>\n",
       "      <td>None</td>\n",
       "    </tr>\n",
       "    <tr>\n",
       "      <th>schools</th>\n",
       "      <td>[{'name': 'Walker Elementary School', 'rating'...</td>\n",
       "    </tr>\n",
       "    <tr>\n",
       "      <th>zpid</th>\n",
       "      <td>2592948</td>\n",
       "    </tr>\n",
       "    <tr>\n",
       "      <th>price</th>\n",
       "      <td>0</td>\n",
       "    </tr>\n",
       "    <tr>\n",
       "      <th>priceForHDP</th>\n",
       "      <td>0</td>\n",
       "    </tr>\n",
       "    <tr>\n",
       "      <th>priceChange</th>\n",
       "      <td>None</td>\n",
       "    </tr>\n",
       "    <tr>\n",
       "      <th>zestimate</th>\n",
       "      <td>162500</td>\n",
       "    </tr>\n",
       "    <tr>\n",
       "      <th>rentZestimate</th>\n",
       "      <td>1466</td>\n",
       "    </tr>\n",
       "    <tr>\n",
       "      <th>currency</th>\n",
       "      <td>USD</td>\n",
       "    </tr>\n",
       "    <tr>\n",
       "      <th>bedrooms</th>\n",
       "      <td>4</td>\n",
       "    </tr>\n",
       "    <tr>\n",
       "      <th>bathrooms</th>\n",
       "      <td>2</td>\n",
       "    </tr>\n",
       "    <tr>\n",
       "      <th>livingArea</th>\n",
       "      <td>2126</td>\n",
       "    </tr>\n",
       "    <tr>\n",
       "      <th>livingAreaValue</th>\n",
       "      <td>2126</td>\n",
       "    </tr>\n",
       "    <tr>\n",
       "      <th>livingAreaUnits</th>\n",
       "      <td>Square Feet</td>\n",
       "    </tr>\n",
       "    <tr>\n",
       "      <th>livingAreaUnitsShort</th>\n",
       "      <td>sqft</td>\n",
       "    </tr>\n",
       "    <tr>\n",
       "      <th>lotSize</th>\n",
       "      <td>7949</td>\n",
       "    </tr>\n",
       "    <tr>\n",
       "      <th>lotAreaValue</th>\n",
       "      <td>7949.7</td>\n",
       "    </tr>\n",
       "    <tr>\n",
       "      <th>lotAreaUnits</th>\n",
       "      <td>Square Feet</td>\n",
       "    </tr>\n",
       "    <tr>\n",
       "      <th>daysOnZillow</th>\n",
       "      <td>45</td>\n",
       "    </tr>\n",
       "    <tr>\n",
       "      <th>address</th>\n",
       "      <td>{'streetAddress': '725 Pelican Ln', 'city': 'F...</td>\n",
       "    </tr>\n",
       "    <tr>\n",
       "      <th>latitude</th>\n",
       "      <td>38.813583</td>\n",
       "    </tr>\n",
       "    <tr>\n",
       "      <th>longitude</th>\n",
       "      <td>-90.32847</td>\n",
       "    </tr>\n",
       "    <tr>\n",
       "      <th>homeStatus</th>\n",
       "      <td>RECENTLY_SOLD</td>\n",
       "    </tr>\n",
       "    <tr>\n",
       "      <th>homeType</th>\n",
       "      <td>SINGLE_FAMILY</td>\n",
       "    </tr>\n",
       "    <tr>\n",
       "      <th>hdpUrl</th>\n",
       "      <td>/homedetails/725-Pelican-Ln-Florissant-MO-6303...</td>\n",
       "    </tr>\n",
       "    <tr>\n",
       "      <th>listing_sub_type</th>\n",
       "      <td>{'is_newHome': False, 'is_forAuction': False, ...</td>\n",
       "    </tr>\n",
       "    <tr>\n",
       "      <th>providerListingID</th>\n",
       "      <td>None</td>\n",
       "    </tr>\n",
       "    <tr>\n",
       "      <th>attributionInfo</th>\n",
       "      <td>{'mlsId': '21087172', 'mlsName': 'MARIS', 'pro...</td>\n",
       "    </tr>\n",
       "    <tr>\n",
       "      <th>isPremierBuilder</th>\n",
       "      <td>False</td>\n",
       "    </tr>\n",
       "    <tr>\n",
       "      <th>isZillowOwned</th>\n",
       "      <td>False</td>\n",
       "    </tr>\n",
       "    <tr>\n",
       "      <th>newConstructionType</th>\n",
       "      <td>None</td>\n",
       "    </tr>\n",
       "    <tr>\n",
       "      <th>isNonOwnerOccupied</th>\n",
       "      <td>False</td>\n",
       "    </tr>\n",
       "    <tr>\n",
       "      <th>zestimateDeepDiveData</th>\n",
       "      <td>{'taxRatioModel': {'estimate': 161336, 'taxRat...</td>\n",
       "    </tr>\n",
       "    <tr>\n",
       "      <th>walkScore</th>\n",
       "      <td>{'walkscore': 22, 'description': 'Car-Dependen...</td>\n",
       "    </tr>\n",
       "    <tr>\n",
       "      <th>downPaymentAssistance</th>\n",
       "      <td>None</td>\n",
       "    </tr>\n",
       "    <tr>\n",
       "      <th>localProtections</th>\n",
       "      <td>{'protectionLevels': {'lgbt': {'level': 'count...</td>\n",
       "    </tr>\n",
       "  </tbody>\n",
       "</table>\n",
       "</div>"
      ],
      "text/plain": [
       "                                                                       0\n",
       "taxAssessedValue                                                  116600\n",
       "monthlyHoaFee                                                       None\n",
       "schools                [{'name': 'Walker Elementary School', 'rating'...\n",
       "zpid                                                             2592948\n",
       "price                                                                  0\n",
       "priceForHDP                                                            0\n",
       "priceChange                                                         None\n",
       "zestimate                                                         162500\n",
       "rentZestimate                                                       1466\n",
       "currency                                                             USD\n",
       "bedrooms                                                               4\n",
       "bathrooms                                                              2\n",
       "livingArea                                                          2126\n",
       "livingAreaValue                                                     2126\n",
       "livingAreaUnits                                              Square Feet\n",
       "livingAreaUnitsShort                                                sqft\n",
       "lotSize                                                             7949\n",
       "lotAreaValue                                                      7949.7\n",
       "lotAreaUnits                                                 Square Feet\n",
       "daysOnZillow                                                          45\n",
       "address                {'streetAddress': '725 Pelican Ln', 'city': 'F...\n",
       "latitude                                                       38.813583\n",
       "longitude                                                      -90.32847\n",
       "homeStatus                                                 RECENTLY_SOLD\n",
       "homeType                                                   SINGLE_FAMILY\n",
       "hdpUrl                 /homedetails/725-Pelican-Ln-Florissant-MO-6303...\n",
       "listing_sub_type       {'is_newHome': False, 'is_forAuction': False, ...\n",
       "providerListingID                                                   None\n",
       "attributionInfo        {'mlsId': '21087172', 'mlsName': 'MARIS', 'pro...\n",
       "isPremierBuilder                                                   False\n",
       "isZillowOwned                                                      False\n",
       "newConstructionType                                                 None\n",
       "isNonOwnerOccupied                                                 False\n",
       "zestimateDeepDiveData  {'taxRatioModel': {'estimate': 161336, 'taxRat...\n",
       "walkScore              {'walkscore': 22, 'description': 'Car-Dependen...\n",
       "downPaymentAssistance                                               None\n",
       "localProtections       {'protectionLevels': {'lgbt': {'level': 'count..."
      ]
     },
     "execution_count": 110,
     "metadata": {},
     "output_type": "execute_result"
    }
   ],
   "source": [
    "data=pd.DataFrame.from_dict(houses, orient=\"index\")\n",
    "data"
   ]
  },
  {
   "cell_type": "code",
   "execution_count": 75,
   "id": "1e5a8828",
   "metadata": {},
   "outputs": [
    {
     "name": "stdout",
     "output_type": "stream",
     "text": [
      "City not found. Skipping...\n",
      "-----------------------------\n",
      "Data Retrieval Complete      \n",
      "-----------------------------\n"
     ]
    }
   ],
   "source": [
    "house_list={        \n",
    "        house_zipid=houses['zpid']\n",
    "        house_lat = houses['latitude']\n",
    "        house_lng = houses['longitude']\n",
    "        house_beds= houses['bedrooms']\n",
    "        house_baths = houses['latitude']\n",
    "        house_sqfeet=house['livingArea']\n",
    "        house_zestimate = houses['zestimate']\n",
    "        house_rentestimate = houses['rentZestimate']\n",
    "        house_cityName = houses['city']\n",
    "        house_type=houses['homeType']\n",
    "        house_state=houses['state']\n",
    "        house_zipcode=houses['zipcode']\n",
    "        house_constructionType=houses['newConstructionType']\n",
    "        house_taxEstimate=houses['zestimateDeepDiveData']['taxRatioModel']['estimate']\n",
    "        house_taxRatio=houses['zestimateDeepDiveData']['taxRatioModel']['taxRatio']\n",
    "        house_taxValue=houses['zestimateDeepDiveData']['taxRatioModel']['taxValue']\n",
    "        house_TaxYear=houses['zestimateDeepDiveData']['taxRatioModel']['taxAssessmentYear']\n",
    "}\n",
    "        # Convert the date to ISO standard.\n",
    "        #city_date = datetime.utcfromtimestamp(city_weather[\"dt\"]).strftime('%Y-%m-%d %H:%M:%S')\n",
    "        # Append the city information into city_data list.\n",
    "        city_data.append({\"ZillowID\":house_zipid,\n",
    "                        \"City\": house_cityName,\n",
    "                          \"Lat\": house_lat,\n",
    "                          \"Lng\": houe_lng,\n",
    "                          \"State\":house_state,\n",
    "                          \"ZipCode\": house_zipcode,\n",
    "                          \"Zestimate\":house_zestimate,\n",
    "                          \"RentEstimate\": house_rentestimate,\n",
    "                          \"NumBeds\":house_beds,\n",
    "                          \"NumBaths\":house_baths,\n",
    "                          \"Sqfeet\":house_sqfeet,\n",
    "                          \"HouseType\": house_type,\n",
    "                          \"ConstructionType\":house_constructionType,\n",
    "                          \"TaxEstimate\": house_taxEstimate,\n",
    "                          \"TaxRatio\":house_taxRatio,\n",
    "                          \"TaxValue\":house_taxValue,\n",
    "                          \"TaxYear\":house_TaxYear,\n",
    "            \n",
    "                         })\n",
    "\n",
    "# If an error is experienced, skip the city.\n",
    "except:\n",
    "    print(\"City not found. Skipping...\")\n",
    "    pass\n",
    "\n",
    "# Indicate that Data Loading is complete.\n",
    "print(\"-----------------------------\")\n",
    "print(\"Data Retrieval Complete      \")\n",
    "print(\"-----------------------------\")"
   ]
  },
  {
   "cell_type": "code",
   "execution_count": null,
   "id": "ac081bf7",
   "metadata": {},
   "outputs": [],
   "source": []
  }
 ],
 "metadata": {
  "kernelspec": {
   "display_name": "PythonData",
   "language": "python",
   "name": "pythondata"
  },
  "language_info": {
   "codemirror_mode": {
    "name": "ipython",
    "version": 3
   },
   "file_extension": ".py",
   "mimetype": "text/x-python",
   "name": "python",
   "nbconvert_exporter": "python",
   "pygments_lexer": "ipython3",
   "version": "3.9.7"
  }
 },
 "nbformat": 4,
 "nbformat_minor": 5
}
